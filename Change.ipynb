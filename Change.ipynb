{
 "cells": [
  {
   "cell_type": "code",
   "execution_count": 31,
   "id": "4897a63a-c840-4576-9db8-6f8ccd2acf4c",
   "metadata": {},
   "outputs": [],
   "source": [
    "#installing pyspark\n",
    "#pip install pyspark"
   ]
  },
  {
   "cell_type": "code",
   "execution_count": 32,
   "id": "8267ac4c-a534-48fb-89b1-7b7cf060c25c",
   "metadata": {},
   "outputs": [],
   "source": [
    "# Import necessary libraries\n",
    "from pyspark.sql import SparkSession\n",
    "from pyspark.ml.feature import VectorAssembler, StringIndexer,StandardScaler\n",
    "from pyspark.mllib.evaluation import BinaryClassificationMetrics\n",
    "from pyspark.ml.evaluation import MulticlassClassificationEvaluator\n",
    "from pyspark.ml.evaluation import BinaryClassificationEvaluator\n",
    "from pyspark.ml.classification import LogisticRegression\n",
    "from pyspark.ml.classification import RandomForestClassifier\n",
    "from pyspark.ml.classification import GBTClassifier"
   ]
  },
  {
   "cell_type": "code",
   "execution_count": 33,
   "id": "67de083c-c42e-4ea9-ae15-5f246299b798",
   "metadata": {},
   "outputs": [],
   "source": [
    "# Create a SparkSession\n",
    "spark = SparkSession.builder.appName(\"NPredictor\").master(\"local\").getOrCreate()"
   ]
  },
  {
   "cell_type": "code",
   "execution_count": 34,
   "id": "4e00cbfc-c46c-4fac-a15b-b90cdf864e21",
   "metadata": {},
   "outputs": [],
   "source": [
    "# Load the dataset\n",
    "data = spark.read.csv(\"C:/Users/EZENWAJIAKU CHINEDU/Desktop/Course Work/Big Data/nasa.csv\", header=True, inferSchema=True)"
   ]
  },
  {
   "cell_type": "code",
   "execution_count": 35,
   "id": "7e3be692-82a6-4e53-b702-414421fd3cbd",
   "metadata": {},
   "outputs": [
    {
     "name": "stdout",
     "output_type": "stream",
     "text": [
      "(4687, 40)\n",
      "+-------+-----------------+-----------------+------------------+-------------------+------------------+------------------+------------------+---------------------+---------------------+--------------------+--------------------+-------------------+-------------------------+----------------------------+---------------------------+------------------+-----------------------+-----------------+---------------------+--------------------+-------------+------------------+------------------------+------------------+--------------------------+---------------------------+------------------+------------------+------------------+------------------+------------------+-----------------+-------------------+------------------+------------------+------------------+------------------+------------------+-------+\n",
      "|summary| Neo Reference ID|             Name|Absolute Magnitude| Est Dia in KM(min)|Est Dia in KM(max)| Est Dia in M(min)| Est Dia in M(max)|Est Dia in Miles(min)|Est Dia in Miles(max)|Est Dia in Feet(min)|Est Dia in Feet(max)|Close Approach Date|Epoch Date Close Approach|Relative Velocity km per sec|Relative Velocity km per hr|    Miles per hour|Miss Dist(Astronomical)| Miss Dist(lunar)|Miss Dist(kilometers)|    Miss Dist(miles)|Orbiting Body|          Orbit ID|Orbit Determination Date|Orbit Uncertainity|Minimum Orbit Intersection|Jupiter Tisserand Invariant|  Epoch Osculation|      Eccentricity|   Semi Major Axis|       Inclination|Asc Node Longitude|   Orbital Period|Perihelion Distance|    Perihelion Arg|     Aphelion Dist|   Perihelion Time|      Mean Anomaly|       Mean Motion|Equinox|\n",
      "+-------+-----------------+-----------------+------------------+-------------------+------------------+------------------+------------------+---------------------+---------------------+--------------------+--------------------+-------------------+-------------------------+----------------------------+---------------------------+------------------+-----------------------+-----------------+---------------------+--------------------+-------------+------------------+------------------------+------------------+--------------------------+---------------------------+------------------+------------------+------------------+------------------+------------------+-----------------+-------------------+------------------+------------------+------------------+------------------+------------------+-------+\n",
      "|  count|             4687|             4687|              4687|               4687|              4687|              4687|              4687|                 4687|                 4687|                4687|                4687|               4687|                     4687|                        4687|                       4687|              4687|                   4687|             4687|                 4687|                4687|         4687|              4687|                    4687|              4687|                      4687|                       4687|              4687|              4687|              4687|              4687|              4687|             4687|               4687|              4687|              4687|              4687|              4687|              4687|   4687|\n",
      "|   mean|3272297.771708982|3272297.771708982| 22.26786494559427|0.20460420303755175|0.4575089064181799|204.60420301297373|457.50890642524064|  0.12713511828738971|   0.2842827667213565|   671.2736534162362|  1501.0135206012371|               NULL|     1.179880726477491E12|          13.970811063800259|           50294.9198294433|31251.307268365807|     0.2567781637309585|99.88670566350456|  3.841346687172404E7|2.3869021679287262E7|         NULL|28.300618732664816|                    NULL| 3.516961809259654|       0.08232007333496894|          5.056111158523565|2457723.6081715384|0.3825691498854291|1.4002636022794983|13.373844091790696|172.15727525994066|635.5820763283954| 0.8133833124864539|183.93215079365936|1.9871438920625057|2457728.1084132744|181.16792739609093|0.7382422701875394|   NULL|\n",
      "| stddev|548601.0832637572|548601.0832637572| 2.890972020170115| 0.3695734016545349|0.8263912487692311| 369.5734016443662| 826.3912487732662|  0.22964219416010956|   0.5134955566754784|  1212.5111991500332|  2711.2574647977467|               NULL|     1.981540443825540...|           7.293222604678804|         26255.601376880848| 16314.20964444371|    0.14579818188628432|56.71549275456702| 2.1811097770544317E7|1.3552787796485597E7|         NULL|38.299668162399406|                    NULL|3.0783065645252616|        0.0902999742447817|         1.2378184288846894| 920.2974727558161|0.1804437783704564|0.5241538829339312|10.936226679065841|103.27677684638259|370.9547267798767|0.24205905663319818|103.51303460814145|0.9515194735137958| 944.2264301506643| 107.5016226322132|0.3426271042755014|   NULL|\n",
      "|    min|          2000433|          2000433|             11.16|        0.001010543|       0.002259644|       1.010543415|       2.259643771|           6.27922E-4|          0.001404077|         3.315431259|          7.41352967|         01/01/1995|               7.88947E11|                 0.335504112|                1207.814804|       750.4891485|             1.77876E-4|      0.069193803|          26609.88672|         16534.61719|        Earth|                 1|        01/05/2017 06:22|                 0|                   2.06E-6|                      2.196|         2450164.5|       0.007522355|       0.615920427|       0.014512943|       0.001940674|      176.5571614|        0.080744296|       0.006917625|       0.803765251|       2450100.317|       0.003191491|       0.086284765|  J2000|\n",
      "|    max|          3781897|          3781897|              32.1|        15.57955241|       34.83693825|       15579.55241|       34836.93825|          9.680682062|          21.64666316|         51114.01874|         114294.4205|         22/12/2015|               1.47332E12|                 44.63374663|                160681.4879|       99841.22783|            0.499884103|      194.4549103|            7.47816E7|         4.6467132E7|        Earth|               611|        31/12/2016 06:19|                 9|                  0.477891|                      9.025|         2458019.5|       0.960260724|       5.072008464|       75.40666684|       359.9058899|      4172.231343|         1.29983165|       359.9930979|       8.983851552|        2458838.86|       359.9179906|       2.038999705|  J2000|\n",
      "+-------+-----------------+-----------------+------------------+-------------------+------------------+------------------+------------------+---------------------+---------------------+--------------------+--------------------+-------------------+-------------------------+----------------------------+---------------------------+------------------+-----------------------+-----------------+---------------------+--------------------+-------------+------------------+------------------------+------------------+--------------------------+---------------------------+------------------+------------------+------------------+------------------+------------------+-----------------+-------------------+------------------+------------------+------------------+------------------+------------------+-------+\n",
      "\n",
      "+----------------+----+------------------+------------------+------------------+-----------------+-----------------+---------------------+---------------------+--------------------+--------------------+-------------------+-------------------------+----------------------------+---------------------------+--------------+-----------------------+----------------+---------------------+----------------+-------------+--------+------------------------+------------------+--------------------------+---------------------------+----------------+------------+---------------+-----------+------------------+--------------+-------------------+--------------+-------------+---------------+------------+-----------+-------+---------+\n",
      "|Neo Reference ID|Name|Absolute Magnitude|Est Dia in KM(min)|Est Dia in KM(max)|Est Dia in M(min)|Est Dia in M(max)|Est Dia in Miles(min)|Est Dia in Miles(max)|Est Dia in Feet(min)|Est Dia in Feet(max)|Close Approach Date|Epoch Date Close Approach|Relative Velocity km per sec|Relative Velocity km per hr|Miles per hour|Miss Dist(Astronomical)|Miss Dist(lunar)|Miss Dist(kilometers)|Miss Dist(miles)|Orbiting Body|Orbit ID|Orbit Determination Date|Orbit Uncertainity|Minimum Orbit Intersection|Jupiter Tisserand Invariant|Epoch Osculation|Eccentricity|Semi Major Axis|Inclination|Asc Node Longitude|Orbital Period|Perihelion Distance|Perihelion Arg|Aphelion Dist|Perihelion Time|Mean Anomaly|Mean Motion|Equinox|Hazardous|\n",
      "+----------------+----+------------------+------------------+------------------+-----------------+-----------------+---------------------+---------------------+--------------------+--------------------+-------------------+-------------------------+----------------------------+---------------------------+--------------+-----------------------+----------------+---------------------+----------------+-------------+--------+------------------------+------------------+--------------------------+---------------------------+----------------+------------+---------------+-----------+------------------+--------------+-------------------+--------------+-------------+---------------+------------+-----------+-------+---------+\n",
      "|               0|   0|                 0|                 0|                 0|                0|                0|                    0|                    0|                   0|                   0|                  0|                        0|                           0|                          0|             0|                      0|               0|                    0|               0|            0|       0|                       0|                 0|                         0|                          0|               0|           0|              0|          0|                 0|             0|                  0|             0|            0|              0|           0|          0|      0|        0|\n",
      "+----------------+----+------------------+------------------+------------------+-----------------+-----------------+---------------------+---------------------+--------------------+--------------------+-------------------+-------------------------+----------------------------+---------------------------+--------------+-----------------------+----------------+---------------------+----------------+-------------+--------+------------------------+------------------+--------------------------+---------------------------+----------------+------------+---------------+-----------+------------------+--------------+-------------------+--------------+-------------+---------------+------------+-----------+-------+---------+\n",
      "\n"
     ]
    }
   ],
   "source": [
    "import pyspark.sql.functions as fc\n",
    "print((data.count(), len(data.columns)))\n",
    "data.describe().show()\n",
    "\n",
    "\n",
    "# null values in each column\n",
    "data_null = data.agg(*[fc.count(fc.when(fc.isnull(c), c)).alias(c) for c in data.columns])\n",
    "data_null.show()   # no null values"
   ]
  },
  {
   "cell_type": "code",
   "execution_count": 36,
   "id": "77f47995-d113-45de-9686-9066919374c3",
   "metadata": {},
   "outputs": [],
   "source": [
    "# Drop columns not neccessary for classification\n",
    "new_data = data.drop('Neo Reference ID', 'Name', 'Orbit ID','Orbiting Body','Equinox','Miss Dist(Astronomical)', 'Miss Dist(miles)', 'Miss Dist(Astronomical)')\n",
    "new_data = new_data.drop('Est Dia in KM(min)','Est Dia in M(min)','Est Dia in Miles(min)','Est Dia in Feet(min)','Relative Velocity km per hr')"
   ]
  },
  {
   "cell_type": "code",
   "execution_count": 37,
   "id": "7bf46820-0497-42ba-a930-ab2d5dbd0670",
   "metadata": {},
   "outputs": [],
   "source": [
    "#new_data.dtypes\n",
    "#new_data.summary\n",
    "#new_data.describe().show()"
   ]
  },
  {
   "cell_type": "code",
   "execution_count": 38,
   "id": "609e6ac3-e729-4e97-91ee-9f15a5e12b9b",
   "metadata": {},
   "outputs": [],
   "source": [
    "# Changing the Boolean type of Harzadous column to String\n",
    "from pyspark.sql.functions import when\n",
    "\n",
    "new_data = new_data.withColumn('Hazardous_Encoded', when(new_data.Hazardous==True, 1).otherwise(0))\n",
    "new_data = new_data.drop(\"Hazardous\")"
   ]
  },
  {
   "cell_type": "code",
   "execution_count": 39,
   "id": "19b22d43-0e62-4141-9a58-c286aa2b7737",
   "metadata": {},
   "outputs": [
    {
     "name": "stdout",
     "output_type": "stream",
     "text": [
      "+-----------------+-----+\n",
      "|Hazardous_Encoded|count|\n",
      "+-----------------+-----+\n",
      "|                1|  755|\n",
      "|                0| 3932|\n",
      "+-----------------+-----+\n",
      "\n"
     ]
    }
   ],
   "source": [
    "new_data.groupBy('Hazardous_Encoded').count().orderBy('count').show()"
   ]
  },
  {
   "cell_type": "code",
   "execution_count": 40,
   "id": "9ee78506-8162-4a4d-9781-a78755fb7874",
   "metadata": {},
   "outputs": [
    {
     "name": "stdout",
     "output_type": "stream",
     "text": [
      "ratio: 5\n"
     ]
    }
   ],
   "source": [
    "from pyspark.sql.functions import col\n",
    "\n",
    "major_df = new_data.filter(col(\"Hazardous_Encoded\") == 0)\n",
    "minor_df = new_data.filter(col(\"Hazardous_Encoded\") == 1)\n",
    "ratio = int(major_df.count()/minor_df.count())\n",
    "print(\"ratio: {}\".format(ratio))\n",
    "sampled_majority_df = major_df.sample(False, 1/ratio)\n",
    "new_data = sampled_majority_df.unionAll(minor_df)"
   ]
  },
  {
   "cell_type": "code",
   "execution_count": 41,
   "id": "64de3bae-d7d5-409a-978c-9ef119fe4fa4",
   "metadata": {},
   "outputs": [
    {
     "name": "stdout",
     "output_type": "stream",
     "text": [
      "(1540, 28)\n"
     ]
    }
   ],
   "source": [
    "print((new_data.count(), len(new_data.columns)))"
   ]
  },
  {
   "cell_type": "code",
   "execution_count": 42,
   "id": "f49c7535-d523-4c87-9a2b-ac00e6f7ddae",
   "metadata": {},
   "outputs": [
    {
     "name": "stdout",
     "output_type": "stream",
     "text": [
      "+-----------------+-----+\n",
      "|Hazardous_Encoded|count|\n",
      "+-----------------+-----+\n",
      "|                1|  755|\n",
      "|                0|  785|\n",
      "+-----------------+-----+\n",
      "\n"
     ]
    }
   ],
   "source": [
    "new_data.groupBy('Hazardous_Encoded').count().orderBy('count').show()"
   ]
  },
  {
   "cell_type": "code",
   "execution_count": 43,
   "id": "ba0bb1f4-a02a-4b3e-9706-81b8097c17a3",
   "metadata": {},
   "outputs": [],
   "source": [
    "#new_data.dtypes"
   ]
  },
  {
   "cell_type": "code",
   "execution_count": 44,
   "id": "ccf4f3c7-7e91-44d8-93c9-7ec2cedc4f48",
   "metadata": {},
   "outputs": [],
   "source": [
    "from pyspark.ml import Pipeline\n",
    "from pyspark.ml.feature import StringIndexer\n",
    "\n",
    "#label encoding of categorical columns\n",
    "categorical_cols = ['Close Approach Date', 'Orbit Determination Date']\n",
    "label_encoders = [StringIndexer(inputCol=col, outputCol=col + \"_encoded\").fit(new_data) for col in categorical_cols]\n",
    "pipeline = Pipeline(stages=label_encoders)\n",
    "new_data = pipeline.fit(new_data).transform(new_data)"
   ]
  },
  {
   "cell_type": "code",
   "execution_count": 45,
   "id": "bddabe37-9551-45e5-8758-7aa5c657dbd5",
   "metadata": {},
   "outputs": [],
   "source": [
    "new_data = new_data.drop('Close Approach Date', 'Orbit Determination Date')"
   ]
  },
  {
   "cell_type": "code",
   "execution_count": 46,
   "id": "226325ba-8a0a-4f93-8548-1b8859c9a224",
   "metadata": {},
   "outputs": [
    {
     "data": {
      "text/plain": [
       "[('Absolute Magnitude', 'double'),\n",
       " ('Est Dia in KM(max)', 'double'),\n",
       " ('Est Dia in M(max)', 'double'),\n",
       " ('Est Dia in Miles(max)', 'double'),\n",
       " ('Est Dia in Feet(max)', 'double'),\n",
       " ('Epoch Date Close Approach', 'double'),\n",
       " ('Relative Velocity km per sec', 'double'),\n",
       " ('Miles per hour', 'double'),\n",
       " ('Miss Dist(lunar)', 'double'),\n",
       " ('Miss Dist(kilometers)', 'double'),\n",
       " ('Orbit Uncertainity', 'int'),\n",
       " ('Minimum Orbit Intersection', 'double'),\n",
       " ('Jupiter Tisserand Invariant', 'double'),\n",
       " ('Epoch Osculation', 'double'),\n",
       " ('Eccentricity', 'double'),\n",
       " ('Semi Major Axis', 'double'),\n",
       " ('Inclination', 'double'),\n",
       " ('Asc Node Longitude', 'double'),\n",
       " ('Orbital Period', 'double'),\n",
       " ('Perihelion Distance', 'double'),\n",
       " ('Perihelion Arg', 'double'),\n",
       " ('Aphelion Dist', 'double'),\n",
       " ('Perihelion Time', 'double'),\n",
       " ('Mean Anomaly', 'double'),\n",
       " ('Mean Motion', 'double'),\n",
       " ('Hazardous_Encoded', 'int'),\n",
       " ('Close Approach Date_encoded', 'double'),\n",
       " ('Orbit Determination Date_encoded', 'double')]"
      ]
     },
     "execution_count": 46,
     "metadata": {},
     "output_type": "execute_result"
    }
   ],
   "source": [
    "new_data.dtypes"
   ]
  },
  {
   "cell_type": "code",
   "execution_count": 47,
   "id": "f7501c27-1bb4-40b1-b542-450032add984",
   "metadata": {},
   "outputs": [],
   "source": [
    "#print((new_data.count(), len(new_data.columns)))\n",
    "features_data = new_data.drop(\"Hazardous_Encoded\")"
   ]
  },
  {
   "cell_type": "code",
   "execution_count": 48,
   "id": "bbcb3b78-4e54-40c9-b941-f246bf2d596a",
   "metadata": {},
   "outputs": [],
   "source": [
    "#features_data.dtypes"
   ]
  },
  {
   "cell_type": "code",
   "execution_count": 49,
   "id": "4b9dc54f-04d5-40bc-b5da-a92b8db73912",
   "metadata": {},
   "outputs": [
    {
     "name": "stdout",
     "output_type": "stream",
     "text": [
      "['Absolute Magnitude', 'Est Dia in KM(max)', 'Est Dia in M(max)', 'Est Dia in Miles(max)', 'Est Dia in Feet(max)', 'Epoch Date Close Approach', 'Relative Velocity km per sec', 'Miles per hour', 'Miss Dist(lunar)', 'Miss Dist(kilometers)', 'Orbit Uncertainity', 'Minimum Orbit Intersection', 'Jupiter Tisserand Invariant', 'Epoch Osculation', 'Eccentricity', 'Semi Major Axis', 'Inclination', 'Asc Node Longitude', 'Orbital Period', 'Perihelion Distance', 'Perihelion Arg', 'Aphelion Dist', 'Perihelion Time', 'Mean Anomaly', 'Mean Motion', 'Close Approach Date_encoded', 'Orbit Determination Date_encoded']\n"
     ]
    }
   ],
   "source": [
    "features_col = features_data.columns\n",
    "print(features_col)\n",
    "assembler = VectorAssembler(inputCols=features_col, outputCol=\"Vfeatures\")\n",
    "new_data = assembler.transform(new_data)\n",
    "new_data = new_data.select(\"Vfeatures\", \"Hazardous_Encoded\")\n"
   ]
  },
  {
   "cell_type": "code",
   "execution_count": 50,
   "id": "dc2f7710-201d-47f4-b0ad-8bb5b0923292",
   "metadata": {},
   "outputs": [
    {
     "name": "stdout",
     "output_type": "stream",
     "text": [
      "+--------------------+-----------------+\n",
      "|           Vfeatures|Hazardous_Encoded|\n",
      "+--------------------+-----------------+\n",
      "|[19.6,0.714562102...|                0|\n",
      "|[22.3,0.206081961...|                0|\n",
      "|[23.9,0.098637028...|                0|\n",
      "|[23.8,0.103285648...|                0|\n",
      "|[18.8,1.032856481...|                0|\n",
      "|[24.0,0.094197631...|                0|\n",
      "|[26.2,0.034201093...|                0|\n",
      "|[18.1,1.425738833...|                0|\n",
      "|[23.7,0.108153351...|                0|\n",
      "|[20.3,0.517654482...|                0|\n",
      "|[20.5,0.472106499...|                0|\n",
      "|[18.3,1.30028927,...|                0|\n",
      "|[24.4,0.078350176...|                0|\n",
      "|[19.5,0.748238376...|                0|\n",
      "|[24.5,0.074823838...|                0|\n",
      "|[18.9,0.986370281...|                0|\n",
      "|[25.3,0.051765448...|                0|\n",
      "|[19.9,0.622357573...|                0|\n",
      "|[21.0,0.375007522...|                0|\n",
      "|[18.3,1.30028927,...|                0|\n",
      "+--------------------+-----------------+\n",
      "only showing top 20 rows\n",
      "\n"
     ]
    }
   ],
   "source": [
    "new_data.show(20)"
   ]
  },
  {
   "cell_type": "code",
   "execution_count": 51,
   "id": "22af729b-81ae-466c-909c-9a4223ed3235",
   "metadata": {},
   "outputs": [],
   "source": [
    "scaled_data = StandardScaler(inputCol=\"Vfeatures\", outputCol=\"features\")\n",
    "new_data = scaled_data.fit(new_data).transform(new_data)"
   ]
  },
  {
   "cell_type": "code",
   "execution_count": 52,
   "id": "45b550ca-531f-4ff0-9df1-3bce0c92e17a",
   "metadata": {},
   "outputs": [
    {
     "name": "stdout",
     "output_type": "stream",
     "text": [
      "+--------------------+-----------------+--------------------+\n",
      "|           Vfeatures|Hazardous_Encoded|            features|\n",
      "+--------------------+-----------------+--------------------+\n",
      "|[19.6,0.714562102...|                0|[7.47784101517662...|\n",
      "|[22.3,0.206081961...|                0|[8.50795176726727...|\n",
      "|[23.9,0.098637028...|                0|[9.11838776850618...|\n",
      "|[23.8,0.103285648...|                0|[9.08023551842875...|\n",
      "|[18.8,1.032856481...|                0|[7.17262301455716...|\n",
      "|[24.0,0.094197631...|                0|[9.15654001858361...|\n",
      "|[26.2,0.034201093...|                0|[9.99588952028711...|\n",
      "|[18.1,1.425738833...|                0|[6.90555726401514...|\n",
      "|[23.7,0.108153351...|                0|[9.04208326835132...|\n",
      "|[20.3,0.517654482...|                0|[7.74490676571864...|\n",
      "|[20.5,0.472106499...|                0|[7.82121126587350...|\n",
      "|[18.3,1.30028927,...|                0|[6.98186176417000...|\n",
      "|[24.4,0.078350176...|                0|[9.30914901889334...|\n",
      "|[19.5,0.748238376...|                0|[7.43968876509918...|\n",
      "|[24.5,0.074823838...|                0|[9.34730126897077...|\n",
      "|[18.9,0.986370281...|                0|[7.21077526463459...|\n",
      "|[25.3,0.051765448...|                0|[9.65251926959022...|\n",
      "|[19.9,0.622357573...|                0|[7.59229776540891...|\n",
      "|[21.0,0.375007522...|                0|[8.01197251626066...|\n",
      "|[18.3,1.30028927,...|                0|[6.98186176417000...|\n",
      "+--------------------+-----------------+--------------------+\n",
      "only showing top 20 rows\n",
      "\n"
     ]
    }
   ],
   "source": [
    "new_data.show(20)"
   ]
  },
  {
   "cell_type": "code",
   "execution_count": 53,
   "id": "281de5e8-3491-468f-a75c-37ed7a3f8da3",
   "metadata": {},
   "outputs": [],
   "source": [
    "new_data = new_data.select(\"features\", \"Hazardous_Encoded\")\n",
    "new_data = new_data.withColumnRenamed(\"Hazardous_Encoded\",\"label\")"
   ]
  },
  {
   "cell_type": "code",
   "execution_count": 54,
   "id": "f473f77c-6909-420c-b3f6-55a3dd4a37c7",
   "metadata": {},
   "outputs": [],
   "source": [
    "#splitting into test and train data\n",
    "train_data, test_data = new_data.randomSplit([0.8, 0.2], seed=42)"
   ]
  },
  {
   "cell_type": "code",
   "execution_count": 55,
   "id": "c4ae995f-b597-4941-b66a-f3113a567879",
   "metadata": {},
   "outputs": [
    {
     "name": "stdout",
     "output_type": "stream",
     "text": [
      "AUC-ROC:  0.978496815286624\n",
      "Accuracy:  0.950354609929078\n",
      "Precision:  0.9503654892028647\n",
      "Recall:  0.950354609929078\n",
      "F-Score:  0.9503600495348361\n"
     ]
    }
   ],
   "source": [
    "# Logistic Regression\n",
    "log_reg=LogisticRegression().fit(train_data)\n",
    "\n",
    "#Get Predictions for Logistic Regression Model\n",
    "predictions = log_reg.transform(test_data)\n",
    "multi_evaluator = MulticlassClassificationEvaluator(labelCol=\"label\", predictionCol=\"prediction\")\n",
    "evaluator = BinaryClassificationEvaluator(rawPredictionCol=\"rawPrediction\", labelCol=\"label\")\n",
    "\n",
    "#Metrics for evaluation\n",
    "recall = multi_evaluator.evaluate(predictions, {multi_evaluator.metricName: \"weightedRecall\"})\n",
    "accuracy = multi_evaluator.evaluate(predictions, {multi_evaluator.metricName: \"accuracy\"})\n",
    "precision = multi_evaluator.evaluate(predictions, {multi_evaluator.metricName: \"weightedPrecision\"})\n",
    "auc = evaluator.evaluate(predictions)\n",
    "f1_Score = (2*precision*recall)/(precision+recall)\n",
    "\n",
    "print(\"AUC-ROC: \", auc)\n",
    "print(\"Accuracy: \", accuracy)\n",
    "print(\"Precision: \", precision)\n",
    "print(\"Recall: \", recall)\n",
    "print(\"F-Score: \",f1_Score)"
   ]
  },
  {
   "cell_type": "code",
   "execution_count": 56,
   "id": "7f368f43-fb2c-4263-a5b7-935b17df0695",
   "metadata": {},
   "outputs": [
    {
     "name": "stdout",
     "output_type": "stream",
     "text": [
      "+--------------------+-----+--------------------+--------------------+----------+\n",
      "|            features|label|       rawPrediction|         probability|prediction|\n",
      "+--------------------+-----+--------------------+--------------------+----------+\n",
      "|[5.87544651192448...|    0|[60.2679814487933...|           [1.0,0.0]|       0.0|\n",
      "|[6.18066451254394...|    0|[8.62296131637674...|[0.99982010572249...|       0.0|\n",
      "|[6.37142576293109...|    0|[6.15540512008450...|[0.99788251211540...|       0.0|\n",
      "|[6.48588251316339...|    0|[38.1965052273155...|           [1.0,0.0]|       0.0|\n",
      "|[6.56218701331825...|    0|[1.50376744651921...|[0.81813570533181...|       0.0|\n",
      "|[6.67664376355055...|    0|[13.5970654902531...|[0.99999875586087...|       0.0|\n",
      "|[6.79110051378284...|    0|[-1.6482806487278...|[0.16134146023173...|       1.0|\n",
      "|[6.90555726401514...|    0|[0.32884002783634...|[0.58147711100781...|       0.0|\n",
      "|[6.98186176417000...|    0|[-9.215845481071,...|[9.94411121067952...|       1.0|\n",
      "|[6.98186176417000...|    0|[30.6814244790616...|[0.99999999999995...|       0.0|\n",
      "|[6.98186176417000...|    0|[16.3020871898306...|[0.99999991680572...|       0.0|\n",
      "|[7.02001401424743...|    0|[22.9280960727057...|[0.99999999988973...|       0.0|\n",
      "|[7.02001401424743...|    0|[37.2457656938117...|           [1.0,0.0]|       0.0|\n",
      "|[7.05816626432487...|    0|[2.51642934288256...|[0.92528558208882...|       0.0|\n",
      "|[7.09631851440230...|    0|[12.5474205881416...|[0.99999644595491...|       0.0|\n",
      "|[7.17262301455716...|    0|[21.5264211590268...|[0.99999999955208...|       0.0|\n",
      "|[7.17262301455716...|    0|[7.49294440220353...|[0.99944330956673...|       0.0|\n",
      "|[7.32523201486689...|    0|[-2.7210402413873...|[0.06174317660457...|       1.0|\n",
      "|[7.40153651502175...|    0|[-1.9327301521037...|[0.12644870140020...|       1.0|\n",
      "|[7.40153651502175...|    0|[11.9540759751841...|[0.99999356708261...|       0.0|\n",
      "+--------------------+-----+--------------------+--------------------+----------+\n",
      "only showing top 20 rows\n",
      "\n"
     ]
    }
   ],
   "source": [
    "#Display the Logistic Regresssion predictions\n",
    "predictions.show()"
   ]
  },
  {
   "cell_type": "markdown",
   "id": "c23f52a1-9577-434e-ad82-66550ddfc9dd",
   "metadata": {},
   "source": [
    "Gradient Boost"
   ]
  },
  {
   "cell_type": "code",
   "execution_count": 57,
   "id": "5412d9ed-3d39-4381-b017-566a20f3018d",
   "metadata": {},
   "outputs": [
    {
     "name": "stdout",
     "output_type": "stream",
     "text": [
      "AUC-ROC:  0.9899363057324841\n",
      "Accuracy:  0.9787234042553191\n",
      "Precision:  0.9788552683488345\n",
      "Recall:  0.9787234042553191\n",
      "F-Score:  0.9787893318608405\n"
     ]
    }
   ],
   "source": [
    "# Gradient Boost Classifier\n",
    "gradient_boost_class = GBTClassifier(labelCol=\"label\", featuresCol=\"features\")\n",
    "model = gradient_boost_class.fit(train_data)\n",
    "\n",
    "#Get predictions for Gradient Boost model\n",
    "predictionGBT = model.transform(test_data)\n",
    "\n",
    "#Metrics for evaluation\n",
    "recall = multi_evaluator.evaluate(predictionGBT, {multi_evaluator.metricName: \"weightedRecall\"})\n",
    "accuracy = multi_evaluator.evaluate(predictionGBT, {multi_evaluator.metricName: \"accuracy\"})\n",
    "precision = multi_evaluator.evaluate(predictionGBT, {multi_evaluator.metricName: \"weightedPrecision\"})\n",
    "auc = evaluator.evaluate(predictionGBT)\n",
    "f1_Score = (2*precision*recall)/(precision+recall)\n",
    "\n",
    "print(\"AUC-ROC: \", auc)\n",
    "print(\"Accuracy: \", accuracy)\n",
    "print(\"Precision: \", precision)\n",
    "print(\"Recall: \", recall)\n",
    "print(\"F-Score: \",f1_Score)"
   ]
  },
  {
   "cell_type": "code",
   "execution_count": 58,
   "id": "c3181b3c-d421-4e51-be6d-0663e4a502d5",
   "metadata": {},
   "outputs": [
    {
     "name": "stdout",
     "output_type": "stream",
     "text": [
      "+--------------------+-----+--------------------+--------------------+----------+\n",
      "|            features|label|       rawPrediction|         probability|prediction|\n",
      "+--------------------+-----+--------------------+--------------------+----------+\n",
      "|[5.87544651192448...|    0|[1.54350200272498...|[0.95635347857270...|       0.0|\n",
      "|[6.18066451254394...|    0|[1.54350200272498...|[0.95635347857270...|       0.0|\n",
      "|[6.37142576293109...|    0|[1.54350200272498...|[0.95635347857270...|       0.0|\n",
      "|[6.48588251316339...|    0|[1.54350200272498...|[0.95635347857270...|       0.0|\n",
      "|[6.56218701331825...|    0|[1.54350200272498...|[0.95635347857270...|       0.0|\n",
      "|[6.67664376355055...|    0|[1.54350200272498...|[0.95635347857270...|       0.0|\n",
      "|[6.79110051378284...|    0|[1.54350200272498...|[0.95635347857270...|       0.0|\n",
      "|[6.90555726401514...|    0|[1.54350200272498...|[0.95635347857270...|       0.0|\n",
      "|[6.98186176417000...|    0|[1.54350200272498...|[0.95635347857270...|       0.0|\n",
      "|[6.98186176417000...|    0|[1.54350200272498...|[0.95635347857270...|       0.0|\n",
      "|[6.98186176417000...|    0|[1.54350200272498...|[0.95635347857270...|       0.0|\n",
      "|[7.02001401424743...|    0|[1.54350200272498...|[0.95635347857270...|       0.0|\n",
      "|[7.02001401424743...|    0|[1.54350200272498...|[0.95635347857270...|       0.0|\n",
      "|[7.05816626432487...|    0|[1.54350200272498...|[0.95635347857270...|       0.0|\n",
      "|[7.09631851440230...|    0|[1.54350200272498...|[0.95635347857270...|       0.0|\n",
      "|[7.17262301455716...|    0|[1.54350200272498...|[0.95635347857270...|       0.0|\n",
      "|[7.17262301455716...|    0|[1.54350200272498...|[0.95635347857270...|       0.0|\n",
      "|[7.32523201486689...|    0|[1.53196542171586...|[0.95538016477549...|       0.0|\n",
      "|[7.40153651502175...|    0|[0.46627985034400...|[0.71759430459416...|       0.0|\n",
      "|[7.40153651502175...|    0|[1.54350200272498...|[0.95635347857270...|       0.0|\n",
      "+--------------------+-----+--------------------+--------------------+----------+\n",
      "only showing top 20 rows\n",
      "\n"
     ]
    }
   ],
   "source": [
    "predictionGBT.show()"
   ]
  },
  {
   "cell_type": "markdown",
   "id": "01a0e0db-17fb-4fa7-abd9-e9552bacdcfb",
   "metadata": {},
   "source": [
    "RANDOM FOREST CLASSIFIER"
   ]
  },
  {
   "cell_type": "code",
   "execution_count": 59,
   "id": "bf9d391d-83d8-4ba8-b62f-10135551c60a",
   "metadata": {},
   "outputs": [
    {
     "name": "stdout",
     "output_type": "stream",
     "text": [
      "AUC-ROC:  0.9991847133757962\n",
      "Accuracy:  0.9822695035460993\n",
      "Precision:  0.9823084716701738\n",
      "Recall:  0.9822695035460993\n",
      "F-Score:  0.982288987221663\n"
     ]
    }
   ],
   "source": [
    "random_forest = RandomForestClassifier(labelCol=\"label\", featuresCol=\"features\")\n",
    "model = random_forest.fit(train_data)\n",
    "\n",
    "#Get predictions for Gradient Boost model\n",
    "predictionRDF = model.transform(test_data)\n",
    "recall = multi_evaluator.evaluate(predictionRDF, {multi_evaluator.metricName: \"weightedRecall\"})\n",
    "accuracy = multi_evaluator.evaluate(predictionRDF, {multi_evaluator.metricName: \"accuracy\"})\n",
    "precision = multi_evaluator.evaluate(predictionRDF, {multi_evaluator.metricName: \"weightedPrecision\"})\n",
    "auc = evaluator.evaluate(predictionRDF)\n",
    "f1_Score = (2*precision*recall)/(precision+recall)\n",
    "\n",
    "print(\"AUC-ROC: \", auc)\n",
    "print(\"Accuracy: \", accuracy)\n",
    "print(\"Precision: \", precision)\n",
    "print(\"Recall: \", recall)\n",
    "print(\"F-Score: \",f1_Score)"
   ]
  },
  {
   "cell_type": "code",
   "execution_count": 60,
   "id": "73ebc335-bc77-49b9-98d2-6e275380ceea",
   "metadata": {},
   "outputs": [
    {
     "name": "stdout",
     "output_type": "stream",
     "text": [
      "+--------------------+-----+--------------------+--------------------+----------+\n",
      "|            features|label|       rawPrediction|         probability|prediction|\n",
      "+--------------------+-----+--------------------+--------------------+----------+\n",
      "|[5.87544651192448...|    0|[15.3100979819300...|[0.76550489909650...|       0.0|\n",
      "|[6.18066451254394...|    0|[16.0778509641800...|[0.80389254820900...|       0.0|\n",
      "|[6.37142576293109...|    0|[15.3036901983788...|[0.76518450991894...|       0.0|\n",
      "|[6.48588251316339...|    0|[17.5961591525357...|[0.87980795762678...|       0.0|\n",
      "|[6.56218701331825...|    0|[13.5211827553860...|[0.67605913776930...|       0.0|\n",
      "|[6.67664376355055...|    0|[16.0792779048193...|[0.80396389524096...|       0.0|\n",
      "|[6.79110051378284...|    0|[14.0553585465342...|[0.70276792732671...|       0.0|\n",
      "|[6.90555726401514...|    0|[15.3392661016714...|[0.76696330508357...|       0.0|\n",
      "|[6.98186176417000...|    0|[16.8219983867345...|[0.84109991933672...|       0.0|\n",
      "|[6.98186176417000...|    0|[17.5961591525357...|[0.87980795762678...|       0.0|\n",
      "|[6.98186176417000...|    0|[16.8219983867345...|[0.84109991933672...|       0.0|\n",
      "|[7.02001401424743...|    0|[15.3100979819300...|[0.76550489909650...|       0.0|\n",
      "|[7.02001401424743...|    0|[17.5961591525357...|[0.87980795762678...|       0.0|\n",
      "|[7.05816626432487...|    0|[18.2589745865389...|[0.91294872932694...|       0.0|\n",
      "|[7.09631851440230...|    0|[15.3100979819300...|[0.76550489909650...|       0.0|\n",
      "|[7.17262301455716...|    0|[16.9117104727660...|[0.84558552363830...|       0.0|\n",
      "|[7.17262301455716...|    0|[17.3387530504732...|[0.86693765252366...|       0.0|\n",
      "|[7.32523201486689...|    0|[13.0497523116223...|[0.65248761558111...|       0.0|\n",
      "|[7.40153651502175...|    0|[16.0188089902316...|[0.80094044951158...|       0.0|\n",
      "|[7.40153651502175...|    0|[15.0317635708667...|[0.75158817854334...|       0.0|\n",
      "+--------------------+-----+--------------------+--------------------+----------+\n",
      "only showing top 20 rows\n",
      "\n"
     ]
    }
   ],
   "source": [
    "predictionRDF.show()"
   ]
  },
  {
   "cell_type": "code",
   "execution_count": null,
   "id": "f3243256-5cd7-465c-bc50-782153602cf5",
   "metadata": {},
   "outputs": [],
   "source": []
  },
  {
   "cell_type": "code",
   "execution_count": null,
   "id": "a1c39bb7-22ae-4e32-9f79-122d92ca1ed8",
   "metadata": {},
   "outputs": [],
   "source": []
  }
 ],
 "metadata": {
  "kernelspec": {
   "display_name": "Python 3 (ipykernel)",
   "language": "python",
   "name": "python3"
  },
  "language_info": {
   "codemirror_mode": {
    "name": "ipython",
    "version": 3
   },
   "file_extension": ".py",
   "mimetype": "text/x-python",
   "name": "python",
   "nbconvert_exporter": "python",
   "pygments_lexer": "ipython3",
   "version": "3.11.7"
  }
 },
 "nbformat": 4,
 "nbformat_minor": 5
}
