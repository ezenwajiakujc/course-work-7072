{
 "cells": [
  {
   "cell_type": "code",
   "execution_count": 1,
   "id": "4897a63a-c840-4576-9db8-6f8ccd2acf4c",
   "metadata": {},
   "outputs": [],
   "source": [
    "#installing pyspark\n",
    "#pip install pyspark"
   ]
  },
  {
   "cell_type": "code",
   "execution_count": 2,
   "id": "8267ac4c-a534-48fb-89b1-7b7cf060c25c",
   "metadata": {},
   "outputs": [],
   "source": [
    "# Import necessary libraries\n",
    "from pyspark.sql import SparkSession\n",
    "from pyspark.ml.feature import VectorAssembler, StringIndexer,StandardScaler\n",
    "from pyspark.mllib.evaluation import BinaryClassificationMetrics\n",
    "from pyspark.ml.evaluation import MulticlassClassificationEvaluator\n",
    "from pyspark.ml.evaluation import BinaryClassificationEvaluator\n",
    "from pyspark.ml.classification import LogisticRegression\n",
    "from pyspark.ml.classification import RandomForestClassifier\n",
    "from pyspark.ml.classification import GBTClassifier"
   ]
  },
  {
   "cell_type": "code",
   "execution_count": 3,
   "id": "67de083c-c42e-4ea9-ae15-5f246299b798",
   "metadata": {},
   "outputs": [],
   "source": [
    "# Create a SparkSession\n",
    "spark = SparkSession.builder.appName(\"NasaPredictor\").master(\"local\").getOrCreate()"
   ]
  },
  {
   "cell_type": "code",
   "execution_count": 4,
   "id": "4e00cbfc-c46c-4fac-a15b-b90cdf864e21",
   "metadata": {},
   "outputs": [],
   "source": [
    "# Load the dataset\n",
    "data = spark.read.csv(\"C:/Users/EZENWAJIAKU CHINEDU/Desktop/Course Work/Big Data/nasa.csv\", header=True, inferSchema=True)"
   ]
  },
  {
   "cell_type": "code",
   "execution_count": 5,
   "id": "7e3be692-82a6-4e53-b702-414421fd3cbd",
   "metadata": {},
   "outputs": [
    {
     "name": "stdout",
     "output_type": "stream",
     "text": [
      "(4687, 40)\n",
      "+-------+-----------------+-----------------+------------------+-------------------+------------------+------------------+------------------+---------------------+---------------------+--------------------+--------------------+-------------------+-------------------------+----------------------------+---------------------------+------------------+-----------------------+-----------------+---------------------+--------------------+-------------+------------------+------------------------+------------------+--------------------------+---------------------------+------------------+------------------+------------------+------------------+------------------+-----------------+-------------------+------------------+------------------+------------------+------------------+------------------+-------+\n",
      "|summary| Neo Reference ID|             Name|Absolute Magnitude| Est Dia in KM(min)|Est Dia in KM(max)| Est Dia in M(min)| Est Dia in M(max)|Est Dia in Miles(min)|Est Dia in Miles(max)|Est Dia in Feet(min)|Est Dia in Feet(max)|Close Approach Date|Epoch Date Close Approach|Relative Velocity km per sec|Relative Velocity km per hr|    Miles per hour|Miss Dist(Astronomical)| Miss Dist(lunar)|Miss Dist(kilometers)|    Miss Dist(miles)|Orbiting Body|          Orbit ID|Orbit Determination Date|Orbit Uncertainity|Minimum Orbit Intersection|Jupiter Tisserand Invariant|  Epoch Osculation|      Eccentricity|   Semi Major Axis|       Inclination|Asc Node Longitude|   Orbital Period|Perihelion Distance|    Perihelion Arg|     Aphelion Dist|   Perihelion Time|      Mean Anomaly|       Mean Motion|Equinox|\n",
      "+-------+-----------------+-----------------+------------------+-------------------+------------------+------------------+------------------+---------------------+---------------------+--------------------+--------------------+-------------------+-------------------------+----------------------------+---------------------------+------------------+-----------------------+-----------------+---------------------+--------------------+-------------+------------------+------------------------+------------------+--------------------------+---------------------------+------------------+------------------+------------------+------------------+------------------+-----------------+-------------------+------------------+------------------+------------------+------------------+------------------+-------+\n",
      "|  count|             4687|             4687|              4687|               4687|              4687|              4687|              4687|                 4687|                 4687|                4687|                4687|               4687|                     4687|                        4687|                       4687|              4687|                   4687|             4687|                 4687|                4687|         4687|              4687|                    4687|              4687|                      4687|                       4687|              4687|              4687|              4687|              4687|              4687|             4687|               4687|              4687|              4687|              4687|              4687|              4687|   4687|\n",
      "|   mean|3272297.771708982|3272297.771708982| 22.26786494559427|0.20460420303755175|0.4575089064181799|204.60420301297373|457.50890642524064|  0.12713511828738971|   0.2842827667213565|   671.2736534162362|  1501.0135206012371|               NULL|     1.179880726477491E12|          13.970811063800259|           50294.9198294433|31251.307268365807|     0.2567781637309585|99.88670566350456|  3.841346687172404E7|2.3869021679287262E7|         NULL|28.300618732664816|                    NULL| 3.516961809259654|       0.08232007333496894|          5.056111158523565|2457723.6081715384|0.3825691498854291|1.4002636022794983|13.373844091790696|172.15727525994066|635.5820763283954| 0.8133833124864539|183.93215079365936|1.9871438920625057|2457728.1084132744|181.16792739609093|0.7382422701875394|   NULL|\n",
      "| stddev|548601.0832637572|548601.0832637572| 2.890972020170115| 0.3695734016545349|0.8263912487692311| 369.5734016443662| 826.3912487732662|  0.22964219416010956|   0.5134955566754784|  1212.5111991500332|  2711.2574647977467|               NULL|     1.981540443825540...|           7.293222604678804|         26255.601376880848| 16314.20964444371|    0.14579818188628432|56.71549275456702| 2.1811097770544317E7|1.3552787796485597E7|         NULL|38.299668162399406|                    NULL|3.0783065645252616|        0.0902999742447817|         1.2378184288846894| 920.2974727558161|0.1804437783704564|0.5241538829339312|10.936226679065841|103.27677684638259|370.9547267798767|0.24205905663319818|103.51303460814145|0.9515194735137958| 944.2264301506643| 107.5016226322132|0.3426271042755014|   NULL|\n",
      "|    min|          2000433|          2000433|             11.16|        0.001010543|       0.002259644|       1.010543415|       2.259643771|           6.27922E-4|          0.001404077|         3.315431259|          7.41352967|         01/01/1995|               7.88947E11|                 0.335504112|                1207.814804|       750.4891485|             1.77876E-4|      0.069193803|          26609.88672|         16534.61719|        Earth|                 1|        01/05/2017 06:22|                 0|                   2.06E-6|                      2.196|         2450164.5|       0.007522355|       0.615920427|       0.014512943|       0.001940674|      176.5571614|        0.080744296|       0.006917625|       0.803765251|       2450100.317|       0.003191491|       0.086284765|  J2000|\n",
      "|    max|          3781897|          3781897|              32.1|        15.57955241|       34.83693825|       15579.55241|       34836.93825|          9.680682062|          21.64666316|         51114.01874|         114294.4205|         22/12/2015|               1.47332E12|                 44.63374663|                160681.4879|       99841.22783|            0.499884103|      194.4549103|            7.47816E7|         4.6467132E7|        Earth|               611|        31/12/2016 06:19|                 9|                  0.477891|                      9.025|         2458019.5|       0.960260724|       5.072008464|       75.40666684|       359.9058899|      4172.231343|         1.29983165|       359.9930979|       8.983851552|        2458838.86|       359.9179906|       2.038999705|  J2000|\n",
      "+-------+-----------------+-----------------+------------------+-------------------+------------------+------------------+------------------+---------------------+---------------------+--------------------+--------------------+-------------------+-------------------------+----------------------------+---------------------------+------------------+-----------------------+-----------------+---------------------+--------------------+-------------+------------------+------------------------+------------------+--------------------------+---------------------------+------------------+------------------+------------------+------------------+------------------+-----------------+-------------------+------------------+------------------+------------------+------------------+------------------+-------+\n",
      "\n",
      "+----------------+----+------------------+------------------+------------------+-----------------+-----------------+---------------------+---------------------+--------------------+--------------------+-------------------+-------------------------+----------------------------+---------------------------+--------------+-----------------------+----------------+---------------------+----------------+-------------+--------+------------------------+------------------+--------------------------+---------------------------+----------------+------------+---------------+-----------+------------------+--------------+-------------------+--------------+-------------+---------------+------------+-----------+-------+---------+\n",
      "|Neo Reference ID|Name|Absolute Magnitude|Est Dia in KM(min)|Est Dia in KM(max)|Est Dia in M(min)|Est Dia in M(max)|Est Dia in Miles(min)|Est Dia in Miles(max)|Est Dia in Feet(min)|Est Dia in Feet(max)|Close Approach Date|Epoch Date Close Approach|Relative Velocity km per sec|Relative Velocity km per hr|Miles per hour|Miss Dist(Astronomical)|Miss Dist(lunar)|Miss Dist(kilometers)|Miss Dist(miles)|Orbiting Body|Orbit ID|Orbit Determination Date|Orbit Uncertainity|Minimum Orbit Intersection|Jupiter Tisserand Invariant|Epoch Osculation|Eccentricity|Semi Major Axis|Inclination|Asc Node Longitude|Orbital Period|Perihelion Distance|Perihelion Arg|Aphelion Dist|Perihelion Time|Mean Anomaly|Mean Motion|Equinox|Hazardous|\n",
      "+----------------+----+------------------+------------------+------------------+-----------------+-----------------+---------------------+---------------------+--------------------+--------------------+-------------------+-------------------------+----------------------------+---------------------------+--------------+-----------------------+----------------+---------------------+----------------+-------------+--------+------------------------+------------------+--------------------------+---------------------------+----------------+------------+---------------+-----------+------------------+--------------+-------------------+--------------+-------------+---------------+------------+-----------+-------+---------+\n",
      "|               0|   0|                 0|                 0|                 0|                0|                0|                    0|                    0|                   0|                   0|                  0|                        0|                           0|                          0|             0|                      0|               0|                    0|               0|            0|       0|                       0|                 0|                         0|                          0|               0|           0|              0|          0|                 0|             0|                  0|             0|            0|              0|           0|          0|      0|        0|\n",
      "+----------------+----+------------------+------------------+------------------+-----------------+-----------------+---------------------+---------------------+--------------------+--------------------+-------------------+-------------------------+----------------------------+---------------------------+--------------+-----------------------+----------------+---------------------+----------------+-------------+--------+------------------------+------------------+--------------------------+---------------------------+----------------+------------+---------------+-----------+------------------+--------------+-------------------+--------------+-------------+---------------+------------+-----------+-------+---------+\n",
      "\n"
     ]
    }
   ],
   "source": [
    "import pyspark.sql.functions as fc\n",
    "print((data.count(), len(data.columns)))\n",
    "data.describe().show()\n",
    "\n",
    "\n",
    "# null values in each column\n",
    "data_null = data.agg(*[fc.count(fc.when(fc.isnull(c), c)).alias(c) for c in data.columns])\n",
    "data_null.show()   # no null values"
   ]
  },
  {
   "cell_type": "code",
   "execution_count": 6,
   "id": "77f47995-d113-45de-9686-9066919374c3",
   "metadata": {},
   "outputs": [],
   "source": [
    "# Drop columns not neccessary for classification\n",
    "new_data = data.drop('Neo Reference ID', 'Name', 'Orbit ID', 'Close Approach Date',\n",
    "                        'Epoch Date Close Approach', 'Orbit Determination Date')"
   ]
  },
  {
   "cell_type": "code",
   "execution_count": 7,
   "id": "7bf46820-0497-42ba-a930-ab2d5dbd0670",
   "metadata": {},
   "outputs": [],
   "source": [
    "#new_data.dtypes\n",
    "#new_data.summary\n",
    "#new_data.describe().show()"
   ]
  },
  {
   "cell_type": "code",
   "execution_count": 8,
   "id": "609e6ac3-e729-4e97-91ee-9f15a5e12b9b",
   "metadata": {},
   "outputs": [],
   "source": [
    "# Changing the Boolean type of Harzadous column to String\n",
    "from pyspark.sql.functions import when\n",
    "\n",
    "new_data = new_data.withColumn('Hazardous_Encoded', when(new_data.Hazardous==True, 1).otherwise(0))\n",
    "new_data = new_data.drop(\"Hazardous\")"
   ]
  },
  {
   "cell_type": "code",
   "execution_count": 9,
   "id": "19b22d43-0e62-4141-9a58-c286aa2b7737",
   "metadata": {},
   "outputs": [
    {
     "name": "stdout",
     "output_type": "stream",
     "text": [
      "+-----------------+-----+\n",
      "|Hazardous_Encoded|count|\n",
      "+-----------------+-----+\n",
      "|                1|  755|\n",
      "|                0| 3932|\n",
      "+-----------------+-----+\n",
      "\n"
     ]
    }
   ],
   "source": [
    "new_data.groupBy('Hazardous_Encoded').count().orderBy('count').show()"
   ]
  },
  {
   "cell_type": "code",
   "execution_count": 10,
   "id": "64de3bae-d7d5-409a-978c-9ef119fe4fa4",
   "metadata": {},
   "outputs": [
    {
     "name": "stdout",
     "output_type": "stream",
     "text": [
      "(4687, 34)\n"
     ]
    }
   ],
   "source": [
    "print((new_data.count(), len(new_data.columns)))"
   ]
  },
  {
   "cell_type": "code",
   "execution_count": 11,
   "id": "ba0bb1f4-a02a-4b3e-9706-81b8097c17a3",
   "metadata": {},
   "outputs": [],
   "source": [
    "#new_data.dtypes"
   ]
  },
  {
   "cell_type": "code",
   "execution_count": 12,
   "id": "ccf4f3c7-7e91-44d8-93c9-7ec2cedc4f48",
   "metadata": {},
   "outputs": [],
   "source": [
    "from pyspark.ml import Pipeline\n",
    "from pyspark.ml.feature import StringIndexer\n",
    "\n",
    "#label encoding of categorical columns\n",
    "categorical_cols = [\"Orbiting Body\",\"Equinox\"]\n",
    "label_encoders = [StringIndexer(inputCol=col, outputCol=col + \"_encoded\").fit(new_data) for col in categorical_cols]\n",
    "pipeline = Pipeline(stages=label_encoders)\n",
    "new_data = pipeline.fit(new_data).transform(new_data)"
   ]
  },
  {
   "cell_type": "code",
   "execution_count": 13,
   "id": "bddabe37-9551-45e5-8758-7aa5c657dbd5",
   "metadata": {},
   "outputs": [],
   "source": [
    "new_data = new_data.drop(\"Orbiting Body\",\"Equinox\")"
   ]
  },
  {
   "cell_type": "code",
   "execution_count": 14,
   "id": "226325ba-8a0a-4f93-8548-1b8859c9a224",
   "metadata": {},
   "outputs": [
    {
     "data": {
      "text/plain": [
       "[('Absolute Magnitude', 'double'),\n",
       " ('Est Dia in KM(min)', 'double'),\n",
       " ('Est Dia in KM(max)', 'double'),\n",
       " ('Est Dia in M(min)', 'double'),\n",
       " ('Est Dia in M(max)', 'double'),\n",
       " ('Est Dia in Miles(min)', 'double'),\n",
       " ('Est Dia in Miles(max)', 'double'),\n",
       " ('Est Dia in Feet(min)', 'double'),\n",
       " ('Est Dia in Feet(max)', 'double'),\n",
       " ('Relative Velocity km per sec', 'double'),\n",
       " ('Relative Velocity km per hr', 'double'),\n",
       " ('Miles per hour', 'double'),\n",
       " ('Miss Dist(Astronomical)', 'double'),\n",
       " ('Miss Dist(lunar)', 'double'),\n",
       " ('Miss Dist(kilometers)', 'double'),\n",
       " ('Miss Dist(miles)', 'double'),\n",
       " ('Orbit Uncertainity', 'int'),\n",
       " ('Minimum Orbit Intersection', 'double'),\n",
       " ('Jupiter Tisserand Invariant', 'double'),\n",
       " ('Epoch Osculation', 'double'),\n",
       " ('Eccentricity', 'double'),\n",
       " ('Semi Major Axis', 'double'),\n",
       " ('Inclination', 'double'),\n",
       " ('Asc Node Longitude', 'double'),\n",
       " ('Orbital Period', 'double'),\n",
       " ('Perihelion Distance', 'double'),\n",
       " ('Perihelion Arg', 'double'),\n",
       " ('Aphelion Dist', 'double'),\n",
       " ('Perihelion Time', 'double'),\n",
       " ('Mean Anomaly', 'double'),\n",
       " ('Mean Motion', 'double'),\n",
       " ('Hazardous_Encoded', 'int'),\n",
       " ('Orbiting Body_encoded', 'double'),\n",
       " ('Equinox_encoded', 'double')]"
      ]
     },
     "execution_count": 14,
     "metadata": {},
     "output_type": "execute_result"
    }
   ],
   "source": [
    "new_data.dtypes"
   ]
  },
  {
   "cell_type": "code",
   "execution_count": 15,
   "id": "de29e62e-e2a4-4533-aafa-09f88a3b61b3",
   "metadata": {},
   "outputs": [],
   "source": [
    "#new_data.show(5)"
   ]
  },
  {
   "cell_type": "code",
   "execution_count": 16,
   "id": "f7501c27-1bb4-40b1-b542-450032add984",
   "metadata": {},
   "outputs": [],
   "source": [
    "#print((new_data.count(), len(new_data.columns)))\n",
    "features_data = new_data.drop(\"Hazardous_Encoded\")"
   ]
  },
  {
   "cell_type": "code",
   "execution_count": 17,
   "id": "bbcb3b78-4e54-40c9-b941-f246bf2d596a",
   "metadata": {},
   "outputs": [],
   "source": [
    "#features_data.dtypes"
   ]
  },
  {
   "cell_type": "code",
   "execution_count": 18,
   "id": "4b9dc54f-04d5-40bc-b5da-a92b8db73912",
   "metadata": {},
   "outputs": [
    {
     "name": "stdout",
     "output_type": "stream",
     "text": [
      "['Absolute Magnitude', 'Est Dia in KM(min)', 'Est Dia in KM(max)', 'Est Dia in M(min)', 'Est Dia in M(max)', 'Est Dia in Miles(min)', 'Est Dia in Miles(max)', 'Est Dia in Feet(min)', 'Est Dia in Feet(max)', 'Relative Velocity km per sec', 'Relative Velocity km per hr', 'Miles per hour', 'Miss Dist(Astronomical)', 'Miss Dist(lunar)', 'Miss Dist(kilometers)', 'Miss Dist(miles)', 'Orbit Uncertainity', 'Minimum Orbit Intersection', 'Jupiter Tisserand Invariant', 'Epoch Osculation', 'Eccentricity', 'Semi Major Axis', 'Inclination', 'Asc Node Longitude', 'Orbital Period', 'Perihelion Distance', 'Perihelion Arg', 'Aphelion Dist', 'Perihelion Time', 'Mean Anomaly', 'Mean Motion', 'Orbiting Body_encoded', 'Equinox_encoded']\n"
     ]
    }
   ],
   "source": [
    "features_col = features_data.columns\n",
    "print(features_col)\n",
    "assembler = VectorAssembler(inputCols=features_col, outputCol=\"Vfeatures\")\n",
    "new_data = assembler.transform(new_data)\n",
    "new_data = new_data.select(\"Vfeatures\", \"Hazardous_Encoded\")\n"
   ]
  },
  {
   "cell_type": "code",
   "execution_count": 19,
   "id": "dc2f7710-201d-47f4-b0ad-8bb5b0923292",
   "metadata": {},
   "outputs": [
    {
     "name": "stdout",
     "output_type": "stream",
     "text": [
      "+--------------------+-----------------+\n",
      "|           Vfeatures|Hazardous_Encoded|\n",
      "+--------------------+-----------------+\n",
      "|[21.6,0.127219879...|                1|\n",
      "|[21.3,0.146067964...|                0|\n",
      "|[20.3,0.231502122...|                1|\n",
      "|[27.4,0.008801465...|                0|\n",
      "|[21.6,0.127219879...|                1|\n",
      "+--------------------+-----------------+\n",
      "only showing top 5 rows\n",
      "\n"
     ]
    }
   ],
   "source": [
    "new_data.show(5)"
   ]
  },
  {
   "cell_type": "code",
   "execution_count": 20,
   "id": "22af729b-81ae-466c-909c-9a4223ed3235",
   "metadata": {},
   "outputs": [],
   "source": [
    "scaled_data = StandardScaler(inputCol=\"Vfeatures\", outputCol=\"features\")\n",
    "new_data = scaled_data.fit(new_data).transform(new_data)"
   ]
  },
  {
   "cell_type": "code",
   "execution_count": 21,
   "id": "45b550ca-531f-4ff0-9df1-3bce0c92e17a",
   "metadata": {},
   "outputs": [
    {
     "name": "stdout",
     "output_type": "stream",
     "text": [
      "+--------------------+-----------------+--------------------+\n",
      "|           Vfeatures|Hazardous_Encoded|            features|\n",
      "+--------------------+-----------------+--------------------+\n",
      "|[21.6,0.127219879...|                1|[7.47153547294760...|\n",
      "|[21.3,0.146067964...|                0|[7.36776414693444...|\n",
      "|[20.3,0.231502122...|                1|[7.02185972689057...|\n",
      "|[27.4,0.008801465...|                0|[9.47778110920205...|\n",
      "|[21.6,0.127219879...|                1|[7.47153547294760...|\n",
      "|[19.6,0.319561887...|                0|[6.77972663285986...|\n",
      "|[19.6,0.319561887...|                0|[6.77972663285986...|\n",
      "|[19.2,0.384197891...|                0|[6.64136486484231...|\n",
      "|[17.8,0.732073989...|                0|[6.15709867678089...|\n",
      "|[21.5,0.133215567...|                1|[7.43694503094321...|\n",
      "|[22.4,0.088014652...|                0|[7.74825900898269...|\n",
      "|[25.8,0.018388867...|                0|[8.92433403713185...|\n",
      "|[25.0,0.02658,0.0...|                0|[8.64761050109676...|\n",
      "|[19.1,0.40230458,...|                0|[6.60677442283792...|\n",
      "|[18.8,0.46190746,...|                0|[6.50300309682476...|\n",
      "|[25.2,0.024241248...|                0|[8.71679138510553...|\n",
      "|[20.0,0.2658,0.59...|                0|[6.91808840087740...|\n",
      "|[21.0,0.167708462...|                0|[7.26399282092127...|\n",
      "|[22.3,0.092162655...|                0|[7.71366856697831...|\n",
      "|[22.7,0.076657557...|                0|[7.85203033499585...|\n",
      "+--------------------+-----------------+--------------------+\n",
      "only showing top 20 rows\n",
      "\n"
     ]
    }
   ],
   "source": [
    "new_data.show(20)"
   ]
  },
  {
   "cell_type": "code",
   "execution_count": 22,
   "id": "281de5e8-3491-468f-a75c-37ed7a3f8da3",
   "metadata": {},
   "outputs": [],
   "source": [
    "new_data = new_data.select(\"features\", \"Hazardous_Encoded\")\n",
    "new_data = new_data.withColumnRenamed(\"Hazardous_Encoded\",\"label\")"
   ]
  },
  {
   "cell_type": "code",
   "execution_count": 23,
   "id": "f473f77c-6909-420c-b3f6-55a3dd4a37c7",
   "metadata": {},
   "outputs": [],
   "source": [
    "#splitting into test and train data\n",
    "train_data, test_data = new_data.randomSplit([0.8, 0.2], seed=42)"
   ]
  },
  {
   "cell_type": "code",
   "execution_count": 24,
   "id": "c4ae995f-b597-4941-b66a-f3113a567879",
   "metadata": {},
   "outputs": [
    {
     "name": "stdout",
     "output_type": "stream",
     "text": [
      "AUC-ROC:  0.9893499518670519\n",
      "Accuracy:  0.9619686800894854\n",
      "Precision:  0.9617393373722547\n",
      "Recall:  0.9619686800894854\n"
     ]
    }
   ],
   "source": [
    "# Logistic Regression\n",
    "log_reg=LogisticRegression().fit(train_data)\n",
    "\n",
    "#Get Predictions for Logistic Regression Model\n",
    "predictions = log_reg.transform(test_data)\n",
    "multi_evaluator = MulticlassClassificationEvaluator(labelCol=\"label\", predictionCol=\"prediction\")\n",
    "evaluator = BinaryClassificationEvaluator(rawPredictionCol=\"rawPrediction\", labelCol=\"label\")\n",
    "\n",
    "#Metrics for evaluation\n",
    "recall = multi_evaluator.evaluate(predictions, {multi_evaluator.metricName: \"weightedRecall\"})\n",
    "accuracy = multi_evaluator.evaluate(predictions, {multi_evaluator.metricName: \"accuracy\"})\n",
    "precision = multi_evaluator.evaluate(predictions, {multi_evaluator.metricName: \"weightedPrecision\"})\n",
    "auc = evaluator.evaluate(predictions)\n",
    "print(\"AUC-ROC: \", auc)\n",
    "print(\"Accuracy: \", accuracy)\n",
    "print(\"Precision: \", precision)\n",
    "print(\"Recall: \", recall)"
   ]
  },
  {
   "cell_type": "code",
   "execution_count": 25,
   "id": "7f368f43-fb2c-4263-a5b7-935b17df0695",
   "metadata": {},
   "outputs": [
    {
     "name": "stdout",
     "output_type": "stream",
     "text": [
      "+--------------------+-----+--------------------+--------------------+----------+\n",
      "|            features|label|       rawPrediction|         probability|prediction|\n",
      "+--------------------+-----+--------------------+--------------------+----------+\n",
      "|[4.92221989722427...|    0|[19.4199158753412...|[0.99999999631839...|       0.0|\n",
      "|[5.05020453264050...|    0|[30.6125153605044...|[0.99999999999994...|       0.0|\n",
      "|[5.25774718466683...|    0|[17.2604100615157...|[0.99999996809203...|       0.0|\n",
      "|[5.32692806867560...|    0|[59.6852214742181...|           [1.0,0.0]|       0.0|\n",
      "|[5.43069939468876...|    0|[21.1345218259053...|[0.99999999933718...|       0.0|\n",
      "|[5.49988027869754...|    0|[53.2905727665533...|           [1.0,0.0]|       0.0|\n",
      "|[5.53447072070192...|    0|[21.7162694607758...|[0.99999999962953...|       0.0|\n",
      "|[5.55176594170412...|    0|[15.1787306623236...|[0.99999974416443...|       0.0|\n",
      "|[5.63824204671508...|    0|[21.9944213910237...|[0.99999999971949...|       0.0|\n",
      "|[5.63824204671508...|    0|[21.9536622167383...|[0.99999999970782...|       0.0|\n",
      "|[5.67283248871947...|    0|[23.3283772975772...|[0.99999999992610...|       0.0|\n",
      "|[5.67283248871947...|    0|[14.3797938839171...|[0.99999943123270...|       0.0|\n",
      "|[5.67283248871947...|    0|[14.4496497780241...|[0.99999946960843...|       0.0|\n",
      "|[5.70742293072386...|    1|[-2.2716158259126...|[0.09350116695018...|       1.0|\n",
      "|[5.74201337272825...|    0|[8.80185698582528...|[0.99984956920718...|       0.0|\n",
      "|[5.77660381473263...|    0|[8.43937786188490...|[0.99978386212054...|       0.0|\n",
      "|[5.81119425673702...|    1|[-6.5894701949038...|[0.00137288073718...|       1.0|\n",
      "|[5.88037514074579...|    0|[30.4578422349653...|[0.99999999999994...|       0.0|\n",
      "|[5.94955602475457...|    1|[-3.1254064435200...|[0.04207134464537...|       1.0|\n",
      "|[5.94955602475457...|    0|[17.1411515524259...|[0.99999996405053...|       0.0|\n",
      "+--------------------+-----+--------------------+--------------------+----------+\n",
      "only showing top 20 rows\n",
      "\n"
     ]
    }
   ],
   "source": [
    "#Display the Logistic Regresssion predictions\n",
    "predictions.show()"
   ]
  },
  {
   "cell_type": "markdown",
   "id": "c23f52a1-9577-434e-ad82-66550ddfc9dd",
   "metadata": {},
   "source": [
    "Gradient Boost"
   ]
  },
  {
   "cell_type": "code",
   "execution_count": 26,
   "id": "5412d9ed-3d39-4381-b017-566a20f3018d",
   "metadata": {},
   "outputs": [
    {
     "name": "stdout",
     "output_type": "stream",
     "text": [
      "AUC-ROC:  0.990768607184476\n",
      "Accuracy:  0.9888143176733781\n",
      "Precision:  0.9887748275545065\n",
      "Recall:  0.9888143176733781\n"
     ]
    }
   ],
   "source": [
    "# Gradient Boost Classifier\n",
    "gradient_boost_class = GBTClassifier(labelCol=\"label\", featuresCol=\"features\")\n",
    "model = gradient_boost_class.fit(train_data)\n",
    "\n",
    "#Get predictions for Gradient Boost model\n",
    "predictionGBT = model.transform(test_data)\n",
    "\n",
    "#Metrics for evaluation\n",
    "recall = multi_evaluator.evaluate(predictionGBT, {multi_evaluator.metricName: \"weightedRecall\"})\n",
    "accuracy = multi_evaluator.evaluate(predictionGBT, {multi_evaluator.metricName: \"accuracy\"})\n",
    "precision = multi_evaluator.evaluate(predictionGBT, {multi_evaluator.metricName: \"weightedPrecision\"})\n",
    "auc = evaluator.evaluate(predictionGBT)\n",
    "print(\"AUC-ROC: \", auc)\n",
    "print(\"Accuracy: \", accuracy)\n",
    "print(\"Precision: \", precision)\n",
    "print(\"Recall: \", recall)"
   ]
  },
  {
   "cell_type": "code",
   "execution_count": 27,
   "id": "c3181b3c-d421-4e51-be6d-0663e4a502d5",
   "metadata": {},
   "outputs": [
    {
     "name": "stdout",
     "output_type": "stream",
     "text": [
      "+--------------------+-----+--------------------+--------------------+----------+\n",
      "|            features|label|       rawPrediction|         probability|prediction|\n",
      "+--------------------+-----+--------------------+--------------------+----------+\n",
      "|[4.92221989722427...|    0|[-2.0422353592564...|[0.01655341795893...|       1.0|\n",
      "|[5.05020453264050...|    0|[1.54350200272498...|[0.95635347857270...|       0.0|\n",
      "|[5.25774718466683...|    0|[1.54350200272498...|[0.95635347857270...|       0.0|\n",
      "|[5.32692806867560...|    0|[1.54350200272498...|[0.95635347857270...|       0.0|\n",
      "|[5.43069939468876...|    0|[1.54350200272498...|[0.95635347857270...|       0.0|\n",
      "|[5.49988027869754...|    0|[1.54350200272498...|[0.95635347857270...|       0.0|\n",
      "|[5.53447072070192...|    0|[1.54350200272498...|[0.95635347857270...|       0.0|\n",
      "|[5.55176594170412...|    0|[1.54350200272498...|[0.95635347857270...|       0.0|\n",
      "|[5.63824204671508...|    0|[1.54350200272498...|[0.95635347857270...|       0.0|\n",
      "|[5.63824204671508...|    0|[1.54350200272498...|[0.95635347857270...|       0.0|\n",
      "|[5.67283248871947...|    0|[1.54350200272498...|[0.95635347857270...|       0.0|\n",
      "|[5.67283248871947...|    0|[1.54350200272498...|[0.95635347857270...|       0.0|\n",
      "|[5.67283248871947...|    0|[1.54350200272498...|[0.95635347857270...|       0.0|\n",
      "|[5.70742293072386...|    1|[-1.5435020027249...|[0.04364652142729...|       1.0|\n",
      "|[5.74201337272825...|    0|[1.54350200272498...|[0.95635347857270...|       0.0|\n",
      "|[5.77660381473263...|    0|[1.54350200272498...|[0.95635347857270...|       0.0|\n",
      "|[5.81119425673702...|    1|[-1.5435020027249...|[0.04364652142729...|       1.0|\n",
      "|[5.88037514074579...|    0|[1.54350200272498...|[0.95635347857270...|       0.0|\n",
      "|[5.94955602475457...|    1|[-1.5435020027249...|[0.04364652142729...|       1.0|\n",
      "|[5.94955602475457...|    0|[1.54350200272498...|[0.95635347857270...|       0.0|\n",
      "+--------------------+-----+--------------------+--------------------+----------+\n",
      "only showing top 20 rows\n",
      "\n"
     ]
    }
   ],
   "source": [
    "predictionGBT.show()"
   ]
  },
  {
   "cell_type": "markdown",
   "id": "01a0e0db-17fb-4fa7-abd9-e9552bacdcfb",
   "metadata": {},
   "source": [
    "RANDOM FOREST CLASSIFIER"
   ]
  },
  {
   "cell_type": "code",
   "execution_count": 28,
   "id": "bf9d391d-83d8-4ba8-b62f-10135551c60a",
   "metadata": {},
   "outputs": [
    {
     "name": "stdout",
     "output_type": "stream",
     "text": [
      "AUC-ROC:  0.9980949485737447\n",
      "Accuracy:  0.9888143176733781\n",
      "Precision:  0.9887476632251421\n",
      "Recall:  0.9888143176733781\n"
     ]
    }
   ],
   "source": [
    "random_forest = RandomForestClassifier(labelCol=\"label\", featuresCol=\"features\")\n",
    "model = random_forest.fit(train_data)\n",
    "\n",
    "#Get predictions for Randomforest Boost model\n",
    "predictionRDF = model.transform(test_data)\n",
    "recall = multi_evaluator.evaluate(predictionRDF, {multi_evaluator.metricName: \"weightedRecall\"})\n",
    "accuracy = multi_evaluator.evaluate(predictionRDF, {multi_evaluator.metricName: \"accuracy\"})\n",
    "precision = multi_evaluator.evaluate(predictionRDF, {multi_evaluator.metricName: \"weightedPrecision\"})\n",
    "auc = evaluator.evaluate(predictionRDF)\n",
    "print(\"AUC-ROC: \", auc)\n",
    "print(\"Accuracy: \", accuracy)\n",
    "print(\"Precision: \", precision)\n",
    "print(\"Recall: \", recall)"
   ]
  },
  {
   "cell_type": "code",
   "execution_count": 29,
   "id": "73ebc335-bc77-49b9-98d2-6e275380ceea",
   "metadata": {},
   "outputs": [
    {
     "name": "stdout",
     "output_type": "stream",
     "text": [
      "+--------------------+-----+--------------------+--------------------+----------+\n",
      "|            features|label|       rawPrediction|         probability|prediction|\n",
      "+--------------------+-----+--------------------+--------------------+----------+\n",
      "|[4.92221989722427...|    0|[17.1794630695966...|[0.85897315347983...|       0.0|\n",
      "|[5.05020453264050...|    0|[17.2528608431575...|[0.86264304215787...|       0.0|\n",
      "|[5.25774718466683...|    0|[17.6979661596972...|[0.88489830798486...|       0.0|\n",
      "|[5.32692806867560...|    0|[17.4961229546474...|[0.87480614773237...|       0.0|\n",
      "|[5.43069939468876...|    0|[18.3567331781069...|[0.91783665890534...|       0.0|\n",
      "|[5.49988027869754...|    0|[18.6846337085077...|[0.93423168542538...|       0.0|\n",
      "|[5.53447072070192...|    0|[17.4970925001467...|[0.87485462500733...|       0.0|\n",
      "|[5.55176594170412...|    0|[17.2528608431575...|[0.86264304215787...|       0.0|\n",
      "|[5.63824204671508...|    0|[16.9414183610351...|[0.84707091805175...|       0.0|\n",
      "|[5.63824204671508...|    0|[16.9316698849692...|[0.84658349424846...|       0.0|\n",
      "|[5.67283248871947...|    0|[18.6079435442452...|[0.93039717721226...|       0.0|\n",
      "|[5.67283248871947...|    0|[17.5260848868734...|[0.87630424434367...|       0.0|\n",
      "|[5.67283248871947...|    0|[17.4873440240808...|[0.87436720120404...|       0.0|\n",
      "|[5.70742293072386...|    1|[4.87080174349898...|[0.24354008717494...|       1.0|\n",
      "|[5.74201337272825...|    0|[16.6053038547953...|[0.83026519273976...|       0.0|\n",
      "|[5.77660381473263...|    0|[17.5711651707360...|[0.87855825853680...|       0.0|\n",
      "|[5.81119425673702...|    1|[6.80686332913200...|[0.34034316645660...|       1.0|\n",
      "|[5.88037514074579...|    0|[17.4961229546474...|[0.87480614773237...|       0.0|\n",
      "|[5.94955602475457...|    1|[2.65652196137685...|[0.13282609806884...|       1.0|\n",
      "|[5.94955602475457...|    0|[17.6979661596972...|[0.88489830798486...|       0.0|\n",
      "+--------------------+-----+--------------------+--------------------+----------+\n",
      "only showing top 20 rows\n",
      "\n"
     ]
    }
   ],
   "source": [
    "predictionRDF.show()"
   ]
  },
  {
   "cell_type": "code",
   "execution_count": null,
   "id": "f3243256-5cd7-465c-bc50-782153602cf5",
   "metadata": {},
   "outputs": [],
   "source": []
  }
 ],
 "metadata": {
  "kernelspec": {
   "display_name": "Python 3 (ipykernel)",
   "language": "python",
   "name": "python3"
  },
  "language_info": {
   "codemirror_mode": {
    "name": "ipython",
    "version": 3
   },
   "file_extension": ".py",
   "mimetype": "text/x-python",
   "name": "python",
   "nbconvert_exporter": "python",
   "pygments_lexer": "ipython3",
   "version": "3.11.7"
  }
 },
 "nbformat": 4,
 "nbformat_minor": 5
}
