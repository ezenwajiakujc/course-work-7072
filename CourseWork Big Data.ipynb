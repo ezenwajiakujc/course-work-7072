{
 "cells": [
  {
   "cell_type": "code",
   "execution_count": 30,
   "id": "4897a63a-c840-4576-9db8-6f8ccd2acf4c",
   "metadata": {},
   "outputs": [],
   "source": [
    "#installing pyspark\n",
    "#pip install pyspark"
   ]
  },
  {
   "cell_type": "code",
   "execution_count": 31,
   "id": "8267ac4c-a534-48fb-89b1-7b7cf060c25c",
   "metadata": {},
   "outputs": [],
   "source": [
    "# Import necessary libraries\n",
    "from pyspark.sql import SparkSession\n",
    "from pyspark.ml.feature import VectorAssembler, StringIndexer,StandardScaler\n",
    "from pyspark.mllib.evaluation import BinaryClassificationMetrics\n",
    "from pyspark.ml.evaluation import MulticlassClassificationEvaluator\n",
    "from pyspark.ml.evaluation import BinaryClassificationEvaluator\n",
    "from pyspark.ml.classification import LogisticRegression\n",
    "from pyspark.ml.classification import RandomForestClassifier\n",
    "from pyspark.ml.classification import GBTClassifier"
   ]
  },
  {
   "cell_type": "code",
   "execution_count": 32,
   "id": "67de083c-c42e-4ea9-ae15-5f246299b798",
   "metadata": {},
   "outputs": [],
   "source": [
    "# Create a SparkSession\n",
    "spark = SparkSession.builder.appName(\"NasaPredictor\").master(\"local\").getOrCreate()"
   ]
  },
  {
   "cell_type": "code",
   "execution_count": 33,
   "id": "4e00cbfc-c46c-4fac-a15b-b90cdf864e21",
   "metadata": {},
   "outputs": [],
   "source": [
    "# Load the dataset\n",
    "data = spark.read.csv(\"C:/Users/EZENWAJIAKU CHINEDU/Desktop/Course Work/Big Data/nasa.csv\", header=True, inferSchema=True)"
   ]
  },
  {
   "cell_type": "code",
   "execution_count": 34,
   "id": "7e3be692-82a6-4e53-b702-414421fd3cbd",
   "metadata": {},
   "outputs": [
    {
     "name": "stdout",
     "output_type": "stream",
     "text": [
      "(4687, 40)\n"
     ]
    }
   ],
   "source": [
    "import pyspark.sql.functions as fc\n",
    "print((data.count(), len(data.columns)))\n",
    "#data.describe().show()\n",
    "\n",
    "\n",
    "# null values in each column\n",
    "data_null = data.agg(*[fc.count(fc.when(fc.isnull(c), c)).alias(c) for c in data.columns])\n",
    "#data_null.show()   # no null values"
   ]
  },
  {
   "cell_type": "code",
   "execution_count": 35,
   "id": "77f47995-d113-45de-9686-9066919374c3",
   "metadata": {},
   "outputs": [],
   "source": [
    "# Drop columns not neccessary for classification\n",
    "new_data = data.drop('Neo Reference ID', 'Name', 'Orbit ID','Orbiting Body','Equinox','Miss Dist(Astronomical)', 'Miss Dist(miles)', 'Miss Dist(Astronomical)')\n",
    "new_data = new_data.drop('Est Dia in KM(min)','Est Dia in M(min)','Est Dia in Miles(min)','Est Dia in Feet(min)','Relative Velocity km per hr')"
   ]
  },
  {
   "cell_type": "code",
   "execution_count": 36,
   "id": "7bf46820-0497-42ba-a930-ab2d5dbd0670",
   "metadata": {},
   "outputs": [],
   "source": [
    "#new_data.dtypes\n",
    "#new_data.summary\n",
    "#new_data.describe().show()"
   ]
  },
  {
   "cell_type": "code",
   "execution_count": 37,
   "id": "609e6ac3-e729-4e97-91ee-9f15a5e12b9b",
   "metadata": {},
   "outputs": [],
   "source": [
    "# Changing the Boolean type of Harzadous column to String\n",
    "from pyspark.sql.functions import when\n",
    "\n",
    "new_data = new_data.withColumn('Hazardous_Encoded', when(new_data.Hazardous==True, 1).otherwise(0))\n",
    "new_data = new_data.drop(\"Hazardous\")"
   ]
  },
  {
   "cell_type": "code",
   "execution_count": 38,
   "id": "19b22d43-0e62-4141-9a58-c286aa2b7737",
   "metadata": {},
   "outputs": [
    {
     "name": "stdout",
     "output_type": "stream",
     "text": [
      "+-----------------+-----+\n",
      "|Hazardous_Encoded|count|\n",
      "+-----------------+-----+\n",
      "|                1|  755|\n",
      "|                0| 3932|\n",
      "+-----------------+-----+\n",
      "\n"
     ]
    }
   ],
   "source": [
    "new_data.groupBy('Hazardous_Encoded').count().orderBy('count').show()"
   ]
  },
  {
   "cell_type": "code",
   "execution_count": 39,
   "id": "64de3bae-d7d5-409a-978c-9ef119fe4fa4",
   "metadata": {},
   "outputs": [
    {
     "name": "stdout",
     "output_type": "stream",
     "text": [
      "(4687, 28)\n"
     ]
    }
   ],
   "source": [
    "print((new_data.count(), len(new_data.columns)))"
   ]
  },
  {
   "cell_type": "code",
   "execution_count": 40,
   "id": "ba0bb1f4-a02a-4b3e-9706-81b8097c17a3",
   "metadata": {},
   "outputs": [
    {
     "data": {
      "text/plain": [
       "[('Absolute Magnitude', 'double'),\n",
       " ('Est Dia in KM(max)', 'double'),\n",
       " ('Est Dia in M(max)', 'double'),\n",
       " ('Est Dia in Miles(max)', 'double'),\n",
       " ('Est Dia in Feet(max)', 'double'),\n",
       " ('Close Approach Date', 'string'),\n",
       " ('Epoch Date Close Approach', 'double'),\n",
       " ('Relative Velocity km per sec', 'double'),\n",
       " ('Miles per hour', 'double'),\n",
       " ('Miss Dist(lunar)', 'double'),\n",
       " ('Miss Dist(kilometers)', 'double'),\n",
       " ('Orbit Determination Date', 'string'),\n",
       " ('Orbit Uncertainity', 'int'),\n",
       " ('Minimum Orbit Intersection', 'double'),\n",
       " ('Jupiter Tisserand Invariant', 'double'),\n",
       " ('Epoch Osculation', 'double'),\n",
       " ('Eccentricity', 'double'),\n",
       " ('Semi Major Axis', 'double'),\n",
       " ('Inclination', 'double'),\n",
       " ('Asc Node Longitude', 'double'),\n",
       " ('Orbital Period', 'double'),\n",
       " ('Perihelion Distance', 'double'),\n",
       " ('Perihelion Arg', 'double'),\n",
       " ('Aphelion Dist', 'double'),\n",
       " ('Perihelion Time', 'double'),\n",
       " ('Mean Anomaly', 'double'),\n",
       " ('Mean Motion', 'double'),\n",
       " ('Hazardous_Encoded', 'int')]"
      ]
     },
     "execution_count": 40,
     "metadata": {},
     "output_type": "execute_result"
    }
   ],
   "source": [
    "new_data.dtypes"
   ]
  },
  {
   "cell_type": "code",
   "execution_count": 41,
   "id": "ccf4f3c7-7e91-44d8-93c9-7ec2cedc4f48",
   "metadata": {},
   "outputs": [],
   "source": [
    "from pyspark.ml import Pipeline\n",
    "from pyspark.ml.feature import StringIndexer\n",
    "\n",
    "#label encoding of categorical columns\n",
    "categorical_cols = ['Close Approach Date', 'Orbit Determination Date']\n",
    "label_encoders = [StringIndexer(inputCol=col, outputCol=col + \"_encoded\").fit(new_data) for col in categorical_cols]\n",
    "pipeline = Pipeline(stages=label_encoders)\n",
    "new_data = pipeline.fit(new_data).transform(new_data)"
   ]
  },
  {
   "cell_type": "code",
   "execution_count": 42,
   "id": "bddabe37-9551-45e5-8758-7aa5c657dbd5",
   "metadata": {},
   "outputs": [],
   "source": [
    "new_data = new_data.drop('Close Approach Date', 'Orbit Determination Date')"
   ]
  },
  {
   "cell_type": "code",
   "execution_count": 43,
   "id": "226325ba-8a0a-4f93-8548-1b8859c9a224",
   "metadata": {},
   "outputs": [
    {
     "data": {
      "text/plain": [
       "[('Absolute Magnitude', 'double'),\n",
       " ('Est Dia in KM(max)', 'double'),\n",
       " ('Est Dia in M(max)', 'double'),\n",
       " ('Est Dia in Miles(max)', 'double'),\n",
       " ('Est Dia in Feet(max)', 'double'),\n",
       " ('Epoch Date Close Approach', 'double'),\n",
       " ('Relative Velocity km per sec', 'double'),\n",
       " ('Miles per hour', 'double'),\n",
       " ('Miss Dist(lunar)', 'double'),\n",
       " ('Miss Dist(kilometers)', 'double'),\n",
       " ('Orbit Uncertainity', 'int'),\n",
       " ('Minimum Orbit Intersection', 'double'),\n",
       " ('Jupiter Tisserand Invariant', 'double'),\n",
       " ('Epoch Osculation', 'double'),\n",
       " ('Eccentricity', 'double'),\n",
       " ('Semi Major Axis', 'double'),\n",
       " ('Inclination', 'double'),\n",
       " ('Asc Node Longitude', 'double'),\n",
       " ('Orbital Period', 'double'),\n",
       " ('Perihelion Distance', 'double'),\n",
       " ('Perihelion Arg', 'double'),\n",
       " ('Aphelion Dist', 'double'),\n",
       " ('Perihelion Time', 'double'),\n",
       " ('Mean Anomaly', 'double'),\n",
       " ('Mean Motion', 'double'),\n",
       " ('Hazardous_Encoded', 'int'),\n",
       " ('Close Approach Date_encoded', 'double'),\n",
       " ('Orbit Determination Date_encoded', 'double')]"
      ]
     },
     "execution_count": 43,
     "metadata": {},
     "output_type": "execute_result"
    }
   ],
   "source": [
    "new_data.dtypes"
   ]
  },
  {
   "cell_type": "code",
   "execution_count": 44,
   "id": "de29e62e-e2a4-4533-aafa-09f88a3b61b3",
   "metadata": {},
   "outputs": [],
   "source": [
    "#new_data.show(5)"
   ]
  },
  {
   "cell_type": "code",
   "execution_count": 45,
   "id": "f7501c27-1bb4-40b1-b542-450032add984",
   "metadata": {},
   "outputs": [],
   "source": [
    "#seperating the target column from features\n",
    "features_data = new_data.drop(\"Hazardous_Encoded\")"
   ]
  },
  {
   "cell_type": "code",
   "execution_count": 46,
   "id": "bbcb3b78-4e54-40c9-b941-f246bf2d596a",
   "metadata": {},
   "outputs": [],
   "source": [
    "#features_data.dtypes"
   ]
  },
  {
   "cell_type": "code",
   "execution_count": 47,
   "id": "4b9dc54f-04d5-40bc-b5da-a92b8db73912",
   "metadata": {},
   "outputs": [
    {
     "name": "stdout",
     "output_type": "stream",
     "text": [
      "['Absolute Magnitude', 'Est Dia in KM(max)', 'Est Dia in M(max)', 'Est Dia in Miles(max)', 'Est Dia in Feet(max)', 'Epoch Date Close Approach', 'Relative Velocity km per sec', 'Miles per hour', 'Miss Dist(lunar)', 'Miss Dist(kilometers)', 'Orbit Uncertainity', 'Minimum Orbit Intersection', 'Jupiter Tisserand Invariant', 'Epoch Osculation', 'Eccentricity', 'Semi Major Axis', 'Inclination', 'Asc Node Longitude', 'Orbital Period', 'Perihelion Distance', 'Perihelion Arg', 'Aphelion Dist', 'Perihelion Time', 'Mean Anomaly', 'Mean Motion', 'Close Approach Date_encoded', 'Orbit Determination Date_encoded']\n"
     ]
    }
   ],
   "source": [
    "#Assembling all the features\n",
    "features_col = features_data.columns\n",
    "print(features_col)\n",
    "assembler = VectorAssembler(inputCols=features_col, outputCol=\"Vfeatures\")\n",
    "new_data = assembler.transform(new_data)\n",
    "new_data = new_data.select(\"Vfeatures\", \"Hazardous_Encoded\")\n"
   ]
  },
  {
   "cell_type": "code",
   "execution_count": 48,
   "id": "dc2f7710-201d-47f4-b0ad-8bb5b0923292",
   "metadata": {},
   "outputs": [
    {
     "name": "stdout",
     "output_type": "stream",
     "text": [
      "+--------------------+-----------------+\n",
      "|           Vfeatures|Hazardous_Encoded|\n",
      "+--------------------+-----------------+\n",
      "|[21.6,0.284472297...|                1|\n",
      "|[21.3,0.326617897...|                0|\n",
      "|[20.3,0.517654482...|                1|\n",
      "|[27.4,0.019680675...|                0|\n",
      "|[21.6,0.284472297...|                1|\n",
      "+--------------------+-----------------+\n",
      "only showing top 5 rows\n",
      "\n"
     ]
    }
   ],
   "source": [
    "new_data.show(5)"
   ]
  },
  {
   "cell_type": "code",
   "execution_count": 49,
   "id": "22af729b-81ae-466c-909c-9a4223ed3235",
   "metadata": {},
   "outputs": [],
   "source": [
    "#scaling the features\n",
    "scaled_data = StandardScaler(inputCol=\"Vfeatures\", outputCol=\"features\")\n",
    "new_data = scaled_data.fit(new_data).transform(new_data)"
   ]
  },
  {
   "cell_type": "code",
   "execution_count": 50,
   "id": "45b550ca-531f-4ff0-9df1-3bce0c92e17a",
   "metadata": {},
   "outputs": [
    {
     "name": "stdout",
     "output_type": "stream",
     "text": [
      "+--------------------+-----------------+--------------------+\n",
      "|           Vfeatures|Hazardous_Encoded|            features|\n",
      "+--------------------+-----------------+--------------------+\n",
      "|[21.6,0.284472297...|                1|[7.47153547294760...|\n",
      "|[21.3,0.326617897...|                0|[7.36776414693444...|\n",
      "|[20.3,0.517654482...|                1|[7.02185972689057...|\n",
      "|[27.4,0.019680675...|                0|[9.47778110920205...|\n",
      "|[21.6,0.284472297...|                1|[7.47153547294760...|\n",
      "|[19.6,0.714562102...|                0|[6.77972663285986...|\n",
      "|[19.6,0.714562102...|                0|[6.77972663285986...|\n",
      "|[19.2,0.859092601...|                0|[6.64136486484231...|\n",
      "|[17.8,1.636967205...|                0|[6.15709867678089...|\n",
      "|[21.5,0.297879063...|                1|[7.43694503094321...|\n",
      "|[22.4,0.196806745...|                0|[7.74825900898269...|\n",
      "|[25.8,0.041118757...|                0|[8.92433403713185...|\n",
      "|[25.0,0.059434687...|                0|[8.64761050109676...|\n",
      "|[19.1,0.899580388...|                0|[6.60677442283792...|\n",
      "|[18.8,1.032856481...|                0|[6.50300309682476...|\n",
      "|[25.2,0.054205079...|                0|[8.71679138510553...|\n",
      "|[20.0,0.594346868...|                0|[6.91808840087740...|\n",
      "|[21.0,0.375007522...|                0|[7.26399282092127...|\n",
      "|[22.3,0.206081961...|                0|[7.71366856697831...|\n",
      "|[22.7,0.171411509...|                0|[7.85203033499585...|\n",
      "+--------------------+-----------------+--------------------+\n",
      "only showing top 20 rows\n",
      "\n"
     ]
    }
   ],
   "source": [
    "new_data.show(20)"
   ]
  },
  {
   "cell_type": "code",
   "execution_count": 51,
   "id": "281de5e8-3491-468f-a75c-37ed7a3f8da3",
   "metadata": {},
   "outputs": [],
   "source": [
    "#renaming the target column to label\n",
    "new_data = new_data.select(\"features\", \"Hazardous_Encoded\")\n",
    "new_data = new_data.withColumnRenamed(\"Hazardous_Encoded\",\"label\")"
   ]
  },
  {
   "cell_type": "code",
   "execution_count": 52,
   "id": "f473f77c-6909-420c-b3f6-55a3dd4a37c7",
   "metadata": {},
   "outputs": [],
   "source": [
    "#splitting into test and train data\n",
    "train_data, test_data = new_data.randomSplit([0.8, 0.2], seed=42)"
   ]
  },
  {
   "cell_type": "code",
   "execution_count": 53,
   "id": "c4ae995f-b597-4941-b66a-f3113a567879",
   "metadata": {},
   "outputs": [
    {
     "name": "stdout",
     "output_type": "stream",
     "text": [
      "AUC-ROC:  0.9918904237156604\n",
      "Accuracy:  0.9586129753914989\n",
      "Precision:  0.958272242707148\n",
      "Recall:  0.9586129753914988\n",
      "F-Score:  0.9584425787661427\n"
     ]
    }
   ],
   "source": [
    "# Logistic Regression\n",
    "log_reg=LogisticRegression().fit(train_data)\n",
    "\n",
    "#Get Predictions for Logistic Regression Model\n",
    "predictions = log_reg.transform(test_data)\n",
    "multi_evaluator = MulticlassClassificationEvaluator(labelCol=\"label\", predictionCol=\"prediction\")\n",
    "evaluator = BinaryClassificationEvaluator(rawPredictionCol=\"rawPrediction\", labelCol=\"label\")\n",
    "\n",
    "#Metrics for evaluation\n",
    "recall = multi_evaluator.evaluate(predictions, {multi_evaluator.metricName: \"weightedRecall\"})\n",
    "accuracy = multi_evaluator.evaluate(predictions, {multi_evaluator.metricName: \"accuracy\"})\n",
    "precision = multi_evaluator.evaluate(predictions, {multi_evaluator.metricName: \"weightedPrecision\"})\n",
    "auc = evaluator.evaluate(predictions)\n",
    "f1_Score = (2*precision*recall)/(precision+recall)\n",
    "\n",
    "print(\"AUC-ROC: \", auc)\n",
    "print(\"Accuracy: \", accuracy)\n",
    "print(\"Precision: \", precision)\n",
    "print(\"Recall: \", recall)\n",
    "print(\"F-Score: \",f1_Score)"
   ]
  },
  {
   "cell_type": "code",
   "execution_count": 54,
   "id": "7f368f43-fb2c-4263-a5b7-935b17df0695",
   "metadata": {},
   "outputs": [
    {
     "name": "stdout",
     "output_type": "stream",
     "text": [
      "+--------------------+-----+--------------------+--------------------+----------+\n",
      "|            features|label|       rawPrediction|         probability|prediction|\n",
      "+--------------------+-----+--------------------+--------------------+----------+\n",
      "|[4.92221989722427...|    0|[17.8918287416001...|[0.99999998303016...|       0.0|\n",
      "|[5.05020453264050...|    0|[28.6212693850750...|[0.99999999999962...|       0.0|\n",
      "|[5.25774718466683...|    0|[15.9383154135761...|[0.99999988030458...|       0.0|\n",
      "|[5.32692806867560...|    0|[56.3633633172686...|           [1.0,0.0]|       0.0|\n",
      "|[5.43069939468876...|    0|[19.0731573613145...|[0.99999999479245...|       0.0|\n",
      "|[5.49988027869754...|    0|[25.6552662788696...|[0.99999999999278...|       0.0|\n",
      "|[5.53447072070192...|    0|[25.4828339951187...|[0.99999999999143...|       0.0|\n",
      "|[5.55176594170412...|    0|[14.3997357325042...|[0.99999944246262...|       0.0|\n",
      "|[5.63824204671508...|    0|[20.9636822446090...|[0.99999999921369...|       0.0|\n",
      "|[5.63824204671508...|    0|[20.9725545242972...|[0.99999999922064...|       0.0|\n",
      "|[5.67283248871947...|    0|[19.1737091175037...|[0.99999999529061...|       0.0|\n",
      "|[5.67283248871947...|    0|[13.4380427771099...|[0.99999854141567...|       0.0|\n",
      "|[5.67283248871947...|    0|[13.2881859024238...|[0.99999830560971...|       0.0|\n",
      "|[5.70742293072386...|    1|[-2.7433584359293...|[0.06046283850268...|       1.0|\n",
      "|[5.74201337272825...|    0|[7.9629229660394,...|[0.99965198711029...|       0.0|\n",
      "|[5.77660381473263...|    0|[17.9783428558965...|[0.99999998443658...|       0.0|\n",
      "|[5.81119425673702...|    0|[1.23434160040585...|[0.77457755240986...|       0.0|\n",
      "|[5.88037514074579...|    0|[29.1407206036658...|[0.99999999999977...|       0.0|\n",
      "|[5.94955602475457...|    0|[19.9499052650942...|[0.99999999783296...|       0.0|\n",
      "|[5.94955602475457...|    1|[-3.2711390832311...|[0.03657466924622...|       1.0|\n",
      "+--------------------+-----+--------------------+--------------------+----------+\n",
      "only showing top 20 rows\n",
      "\n"
     ]
    }
   ],
   "source": [
    "#Display the Logistic Regresssion predictions\n",
    "predictions.show()"
   ]
  },
  {
   "cell_type": "markdown",
   "id": "c23f52a1-9577-434e-ad82-66550ddfc9dd",
   "metadata": {},
   "source": [
    "Gradient Boost"
   ]
  },
  {
   "cell_type": "code",
   "execution_count": 55,
   "id": "5412d9ed-3d39-4381-b017-566a20f3018d",
   "metadata": {},
   "outputs": [
    {
     "name": "stdout",
     "output_type": "stream",
     "text": [
      "AUC-ROC:  0.9935977029334161\n",
      "Accuracy:  0.9899328859060402\n",
      "Precision:  0.990064402542591\n",
      "Recall:  0.9899328859060403\n",
      "F-Score:  0.989998639856475\n"
     ]
    }
   ],
   "source": [
    "# Gradient Boost Classifier\n",
    "gradient_boost_class = GBTClassifier(labelCol=\"label\", featuresCol=\"features\")\n",
    "model = gradient_boost_class.fit(train_data)\n",
    "\n",
    "#Get predictions for Gradient Boost model\n",
    "predictionGBT = model.transform(test_data)\n",
    "\n",
    "#Metrics for evaluation\n",
    "recall = multi_evaluator.evaluate(predictionGBT, {multi_evaluator.metricName: \"weightedRecall\"})\n",
    "accuracy = multi_evaluator.evaluate(predictionGBT, {multi_evaluator.metricName: \"accuracy\"})\n",
    "precision = multi_evaluator.evaluate(predictionGBT, {multi_evaluator.metricName: \"weightedPrecision\"})\n",
    "auc = evaluator.evaluate(predictionGBT)\n",
    "f1_Score = (2*precision*recall)/(precision+recall)\n",
    "\n",
    "print(\"AUC-ROC: \", auc)\n",
    "print(\"Accuracy: \", accuracy)\n",
    "print(\"Precision: \", precision)\n",
    "print(\"Recall: \", recall)\n",
    "print(\"F-Score: \",f1_Score)"
   ]
  },
  {
   "cell_type": "code",
   "execution_count": 56,
   "id": "c3181b3c-d421-4e51-be6d-0663e4a502d5",
   "metadata": {},
   "outputs": [
    {
     "name": "stdout",
     "output_type": "stream",
     "text": [
      "+--------------------+-----+--------------------+--------------------+----------+\n",
      "|            features|label|       rawPrediction|         probability|prediction|\n",
      "+--------------------+-----+--------------------+--------------------+----------+\n",
      "|[4.92221989722427...|    0|[-0.8921173251773...|[0.14378102777132...|       1.0|\n",
      "|[5.05020453264050...|    0|[1.54350200272498...|[0.95635347857270...|       0.0|\n",
      "|[5.25774718466683...|    0|[1.54350200272498...|[0.95635347857270...|       0.0|\n",
      "|[5.32692806867560...|    0|[1.54350200272498...|[0.95635347857270...|       0.0|\n",
      "|[5.43069939468876...|    0|[1.54350200272498...|[0.95635347857270...|       0.0|\n",
      "|[5.49988027869754...|    0|[1.54350200272498...|[0.95635347857270...|       0.0|\n",
      "|[5.53447072070192...|    0|[1.54350200272498...|[0.95635347857270...|       0.0|\n",
      "|[5.55176594170412...|    0|[1.54350200272498...|[0.95635347857270...|       0.0|\n",
      "|[5.63824204671508...|    0|[1.54350200272498...|[0.95635347857270...|       0.0|\n",
      "|[5.63824204671508...|    0|[1.54350200272498...|[0.95635347857270...|       0.0|\n",
      "|[5.67283248871947...|    0|[1.54350200272498...|[0.95635347857270...|       0.0|\n",
      "|[5.67283248871947...|    0|[1.54350200272498...|[0.95635347857270...|       0.0|\n",
      "|[5.67283248871947...|    0|[1.54350200272498...|[0.95635347857270...|       0.0|\n",
      "|[5.70742293072386...|    1|[-1.5435020027249...|[0.04364652142729...|       1.0|\n",
      "|[5.74201337272825...|    0|[1.54350200272498...|[0.95635347857270...|       0.0|\n",
      "|[5.77660381473263...|    0|[1.54350200272498...|[0.95635347857270...|       0.0|\n",
      "|[5.81119425673702...|    0|[1.54350200272498...|[0.95635347857270...|       0.0|\n",
      "|[5.88037514074579...|    0|[1.54350200272498...|[0.95635347857270...|       0.0|\n",
      "|[5.94955602475457...|    0|[1.54350200272498...|[0.95635347857270...|       0.0|\n",
      "|[5.94955602475457...|    1|[-1.5435020027249...|[0.04364652142729...|       1.0|\n",
      "+--------------------+-----+--------------------+--------------------+----------+\n",
      "only showing top 20 rows\n",
      "\n"
     ]
    }
   ],
   "source": [
    "predictionGBT.show()"
   ]
  },
  {
   "cell_type": "markdown",
   "id": "01a0e0db-17fb-4fa7-abd9-e9552bacdcfb",
   "metadata": {},
   "source": [
    "RANDOM FOREST CLASSIFIER"
   ]
  },
  {
   "cell_type": "code",
   "execution_count": 57,
   "id": "bf9d391d-83d8-4ba8-b62f-10135551c60a",
   "metadata": {},
   "outputs": [
    {
     "name": "stdout",
     "output_type": "stream",
     "text": [
      "AUC-ROC:  0.9949460654974391\n",
      "Accuracy:  0.9944071588366891\n",
      "Precision:  0.9944286977654283\n",
      "Recall:  0.994407158836689\n",
      "F-Score:  0.9944179281844263\n"
     ]
    }
   ],
   "source": [
    "random_forest = RandomForestClassifier(labelCol=\"label\", featuresCol=\"features\")\n",
    "model = random_forest.fit(train_data)\n",
    "\n",
    "#Get predictions for Randomforest Boost model\n",
    "predictionRDF = model.transform(test_data)\n",
    "recall = multi_evaluator.evaluate(predictionRDF, {multi_evaluator.metricName: \"weightedRecall\"})\n",
    "accuracy = multi_evaluator.evaluate(predictionRDF, {multi_evaluator.metricName: \"accuracy\"})\n",
    "precision = multi_evaluator.evaluate(predictionRDF, {multi_evaluator.metricName: \"weightedPrecision\"})\n",
    "auc = evaluator.evaluate(predictionRDF)\n",
    "f1_Score = (2*precision*recall)/(precision+recall)\n",
    "\n",
    "print(\"AUC-ROC: \", auc)\n",
    "print(\"Accuracy: \", accuracy)\n",
    "print(\"Precision: \", precision)\n",
    "print(\"Recall: \", recall)\n",
    "print(\"F-Score: \",f1_Score)"
   ]
  },
  {
   "cell_type": "code",
   "execution_count": 58,
   "id": "73ebc335-bc77-49b9-98d2-6e275380ceea",
   "metadata": {},
   "outputs": [
    {
     "name": "stdout",
     "output_type": "stream",
     "text": [
      "+--------------------+-----+--------------------+--------------------+----------+\n",
      "|            features|label|       rawPrediction|         probability|prediction|\n",
      "+--------------------+-----+--------------------+--------------------+----------+\n",
      "|[4.92221989722427...|    0|[14.7916318506549...|[0.73958159253274...|       0.0|\n",
      "|[5.05020453264050...|    0|[18.3187209801349...|[0.91593604900674...|       0.0|\n",
      "|[5.25774718466683...|    0|[18.9708633182592...|[0.94854316591296...|       0.0|\n",
      "|[5.32692806867560...|    0|[19.0180934939243...|[0.95090467469622...|       0.0|\n",
      "|[5.43069939468876...|    0|[19.0794144103474...|[0.95397072051737...|       0.0|\n",
      "|[5.49988027869754...|    0|[18.6974344318204...|[0.93487172159102...|       0.0|\n",
      "|[5.53447072070192...|    0|[19.2844739246083...|[0.96422369623041...|       0.0|\n",
      "|[5.55176594170412...|    0|[18.3187209801349...|[0.91593604900674...|       0.0|\n",
      "|[5.63824204671508...|    0|[17.3996496297034...|[0.86998248148517...|       0.0|\n",
      "|[5.63824204671508...|    0|[17.3996496297034...|[0.86998248148517...|       0.0|\n",
      "|[5.67283248871947...|    0|[17.5966113441059...|[0.87983056720529...|       0.0|\n",
      "|[5.67283248871947...|    0|[18.3187209801349...|[0.91593604900674...|       0.0|\n",
      "|[5.67283248871947...|    0|[18.7856991277272...|[0.93928495638636...|       0.0|\n",
      "|[5.70742293072386...|    1|[1.83374808433168...|[0.09168740421658...|       1.0|\n",
      "|[5.74201337272825...|    0|[17.8629720347109...|[0.89314860173554...|       0.0|\n",
      "|[5.77660381473263...|    0|[18.6974344318204...|[0.93487172159102...|       0.0|\n",
      "|[5.81119425673702...|    0|[18.6974344318204...|[0.93487172159102...|       0.0|\n",
      "|[5.88037514074579...|    0|[18.7856991277272...|[0.93928495638636...|       0.0|\n",
      "|[5.94955602475457...|    0|[18.7856991277272...|[0.93928495638636...|       0.0|\n",
      "|[5.94955602475457...|    1|[1.38189300453986...|[0.06909465022699...|       1.0|\n",
      "+--------------------+-----+--------------------+--------------------+----------+\n",
      "only showing top 20 rows\n",
      "\n"
     ]
    }
   ],
   "source": [
    "predictionRDF.show()"
   ]
  },
  {
   "cell_type": "code",
   "execution_count": null,
   "id": "f3243256-5cd7-465c-bc50-782153602cf5",
   "metadata": {},
   "outputs": [],
   "source": []
  }
 ],
 "metadata": {
  "kernelspec": {
   "display_name": "Python 3 (ipykernel)",
   "language": "python",
   "name": "python3"
  },
  "language_info": {
   "codemirror_mode": {
    "name": "ipython",
    "version": 3
   },
   "file_extension": ".py",
   "mimetype": "text/x-python",
   "name": "python",
   "nbconvert_exporter": "python",
   "pygments_lexer": "ipython3",
   "version": "3.11.7"
  }
 },
 "nbformat": 4,
 "nbformat_minor": 5
}
